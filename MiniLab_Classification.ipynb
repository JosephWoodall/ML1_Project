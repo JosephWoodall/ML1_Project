{
 "cells": [
  {
   "cell_type": "markdown",
   "id": "d3b34e76",
   "metadata": {},
   "source": [
    "# INTRODUCTION"
   ]
  },
  {
   "cell_type": "code",
   "execution_count": 1,
   "id": "1c7af981",
   "metadata": {},
   "outputs": [],
   "source": [
    "# Read in data and packages\n",
    "import pandas as pd\n",
    "import numpy as np\n",
    "#import bamboolib as bam\n",
    "from sklearn.metrics import accuracy_score, confusion_matrix, recall_score, roc_auc_score, precision_score, f1_score\n",
    "\n",
    "df = pd.read_csv('ML1_data_adj_v2.csv')"
   ]
  },
  {
   "cell_type": "markdown",
   "id": "d3817b4a",
   "metadata": {},
   "source": [
    "The response variable for this classification analysis will be Fwd_Return_3M_Class, which represents the forward / future 3 month return of a given stock in our dataset relative to the 3 month return of the equal weighted S&P 500 index.  This captures whether a stock is deemed to have out- or under-performed during this time period."
   ]
  },
  {
   "cell_type": "code",
   "execution_count": 2,
   "id": "a73c2ae9",
   "metadata": {},
   "outputs": [
    {
     "name": "stdout",
     "output_type": "stream",
     "text": [
      "<class 'pandas.core.frame.DataFrame'>\n",
      "RangeIndex: 52663 entries, 0 to 52662\n",
      "Data columns (total 68 columns):\n",
      " #   Column                 Non-Null Count  Dtype  \n",
      "---  ------                 --------------  -----  \n",
      " 0   Mkt_Cap                52663 non-null  float64\n",
      " 1   Best_EPS_1M            52663 non-null  float64\n",
      " 2   Best_EPS_3M            52663 non-null  float64\n",
      " 3   Best_EPS_6M            52663 non-null  float64\n",
      " 4   Best_EPS_1Y            52663 non-null  float64\n",
      " 5   Best_EPS_3Y            52663 non-null  float64\n",
      " 6   Best_EPS_5Y            52663 non-null  float64\n",
      " 7   Best_EPS_3M_v5Y        52663 non-null  float64\n",
      " 8   Best_EPS_6M_v5Y        52663 non-null  float64\n",
      " 9   Best_EPS_1Y_v5Y        52663 non-null  float64\n",
      " 10  Best_EPS_3Y_v5Y        52663 non-null  float64\n",
      " 11  Best_EPS_3M_Rank       52663 non-null  float64\n",
      " 12  Best_EPS_6M_Rank       52663 non-null  float64\n",
      " 13  Best_EPS_1Y_Rank       52663 non-null  float64\n",
      " 14  ST_Accel               52663 non-null  float64\n",
      " 15  ST_Accel_Class         52663 non-null  int64  \n",
      " 16  NRR_6M                 52663 non-null  float64\n",
      " 17  An_Mark_6M             52663 non-null  float64\n",
      " 18  An_Unch_6M             52663 non-null  float64\n",
      " 19  An_Down_6M             52663 non-null  float64\n",
      " 20  An_Up_6M               52663 non-null  float64\n",
      " 21  NRR_3M                 52663 non-null  float64\n",
      " 22  An_Mark_3M             52663 non-null  float64\n",
      " 23  An_Unch_3M             52663 non-null  float64\n",
      " 24  An_Down_3M             52663 non-null  float64\n",
      " 25  An_Up_3M               52663 non-null  float64\n",
      " 26  NRR                    52663 non-null  float64\n",
      " 27  An_Mark                52663 non-null  float64\n",
      " 28  An_Unch                52663 non-null  float64\n",
      " 29  An_Down                52663 non-null  float64\n",
      " 30  An_Up                  52663 non-null  float64\n",
      " 31  Return_1M              52663 non-null  float64\n",
      " 32  Return_3M              52663 non-null  float64\n",
      " 33  Return_6M              52663 non-null  float64\n",
      " 34  Best_EPS_5Y_R2         52663 non-null  float64\n",
      " 35  Best_EPS_5Y_R2_Rank    52663 non-null  float64\n",
      " 36  Best_EPS_5Y_SD         52663 non-null  float64\n",
      " 37  Best_EPS_5Y_Stability  52663 non-null  float64\n",
      " 38  Best_EPS_5Y_R2_p       52663 non-null  float64\n",
      " 39  Best_EPS_3Y_R2         52663 non-null  float64\n",
      " 40  Best_EPS_3Y_R2_p       52663 non-null  float64\n",
      " 41  Best_EPS_1Y_R2         52663 non-null  float64\n",
      " 42  Best_EPS_1Y_R2_p       52663 non-null  float64\n",
      " 43  Best_EPS_Sigma         52663 non-null  float64\n",
      " 44  Best_EPS_Mean_Med      52663 non-null  float64\n",
      " 45  Best_EPS_Hi_Lo         52663 non-null  float64\n",
      " 46  Best_EPS_Up_10_6M      52663 non-null  int64  \n",
      " 47  Best_EPS_Up_10_3M      52663 non-null  int64  \n",
      " 48  Best_EPS_Up_10_1M      52663 non-null  int64  \n",
      " 49  Best_EPS_5Y_CV         52663 non-null  float64\n",
      " 50  Best_EPS_Dn_10_6M      52663 non-null  int64  \n",
      " 51  Best_EPS_Dn_10_3M      52663 non-null  int64  \n",
      " 52  Best_EPS_Dn_10_1M      52663 non-null  int64  \n",
      " 53  Best_EPS_Sigma_3M      52663 non-null  float64\n",
      " 54  Best_EPS_Sigma_6M      52663 non-null  float64\n",
      " 55  Best_EPS_Sigma_1Y      52663 non-null  float64\n",
      " 56  ROIC                   52663 non-null  float64\n",
      " 57  ROIC_1Y_Chg            52663 non-null  float64\n",
      " 58  ROIC_SD                52663 non-null  float64\n",
      " 59  ROE                    52663 non-null  float64\n",
      " 60  ROE_1Y_Chg             52663 non-null  float64\n",
      " 61  ROE_SD                 52663 non-null  float64\n",
      " 62  FCF_Mgn                52663 non-null  float64\n",
      " 63  FCF_Mgn_1Y_Chg         52663 non-null  float64\n",
      " 64  FCF_Mgn_SD             52663 non-null  float64\n",
      " 65  Op_Mgn                 52663 non-null  float64\n",
      " 66  Op_Mgn_1Y_Chg          52663 non-null  float64\n",
      " 67  Op_Mgn_SD              52663 non-null  float64\n",
      "dtypes: float64(61), int64(7)\n",
      "memory usage: 27.3 MB\n"
     ]
    }
   ],
   "source": [
    "# X variables = explanatory variables\n",
    "X = df.drop(columns=['Date', 'ticker', 'Year', 'Fwd_ST_Accel_Class_3M', 'Fwd_Return_3M_Class', 'Fwd_Return_6M_Class', 'Fwd_Best_EPS_6M', 'Fwd_ST_Accel_3M','Sector','Fwd_Best_EPS_6M_v5Y', 'Fwd_Return_6M', 'Fwd_Return_3M', 'Fwd_Return_1M'])\n",
    "X.info()"
   ]
  },
  {
   "cell_type": "code",
   "execution_count": 3,
   "id": "d94a6a72",
   "metadata": {},
   "outputs": [
    {
     "name": "stdout",
     "output_type": "stream",
     "text": [
      "<class 'pandas.core.frame.DataFrame'>\n",
      "RangeIndex: 52663 entries, 0 to 52662\n",
      "Data columns (total 1 columns):\n",
      " #   Column               Non-Null Count  Dtype\n",
      "---  ------               --------------  -----\n",
      " 0   Fwd_Return_3M_Class  52663 non-null  int64\n",
      "dtypes: int64(1)\n",
      "memory usage: 411.6 KB\n"
     ]
    }
   ],
   "source": [
    "# y = response variable\n",
    "y = df[['Fwd_Return_3M_Class']]\n",
    "y.info()"
   ]
  },
  {
   "cell_type": "code",
   "execution_count": 4,
   "id": "0525f81b",
   "metadata": {},
   "outputs": [],
   "source": [
    "# We will use this object later on.\n",
    "X_imputed = X"
   ]
  },
  {
   "cell_type": "code",
   "execution_count": 5,
   "id": "23df072a",
   "metadata": {},
   "outputs": [
    {
     "data": {
      "text/html": [
       "<div>\n",
       "<style scoped>\n",
       "    .dataframe tbody tr th:only-of-type {\n",
       "        vertical-align: middle;\n",
       "    }\n",
       "\n",
       "    .dataframe tbody tr th {\n",
       "        vertical-align: top;\n",
       "    }\n",
       "\n",
       "    .dataframe thead th {\n",
       "        text-align: right;\n",
       "    }\n",
       "</style>\n",
       "<table border=\"1\" class=\"dataframe\">\n",
       "  <thead>\n",
       "    <tr style=\"text-align: right;\">\n",
       "      <th></th>\n",
       "      <th>Fwd_Return_3M_Class</th>\n",
       "      <th>counts</th>\n",
       "    </tr>\n",
       "  </thead>\n",
       "  <tbody>\n",
       "    <tr>\n",
       "      <th>0</th>\n",
       "      <td>0</td>\n",
       "      <td>23362</td>\n",
       "    </tr>\n",
       "    <tr>\n",
       "      <th>1</th>\n",
       "      <td>1</td>\n",
       "      <td>29301</td>\n",
       "    </tr>\n",
       "  </tbody>\n",
       "</table>\n",
       "</div>"
      ],
      "text/plain": [
       "   Fwd_Return_3M_Class  counts\n",
       "0                    0   23362\n",
       "1                    1   29301"
      ]
     },
     "execution_count": 5,
     "metadata": {},
     "output_type": "execute_result"
    }
   ],
   "source": [
    "# Assess balance of data set\n",
    "y.groupby(['Fwd_Return_3M_Class']).size().reset_index(name='counts')"
   ]
  },
  {
   "cell_type": "markdown",
   "id": "5c9b1cd2",
   "metadata": {},
   "source": [
    "# LOGISTIC REGRESSION MODELLING"
   ]
  },
  {
   "cell_type": "markdown",
   "id": "ef751ba8",
   "metadata": {},
   "source": [
    "As part of our logistic regression model building efforts, we built several models and sought to adjust parameters with the end goal in mind of improving accuracy, F1 score and AUC.  We built a model that included all of the variables and adjusted parameters to improve accuracy, then assessed the power of each of the variables (as detailed in forthcoming sections below).  With this information we then built two models based on feature importance weight thresholds of 0.1 and 0.3.  Then we built a dimension reduction model using PCA.\n",
    "\n",
    "Upon completion of our model building efforts, we chose Model 2 as our finalized logistic regression model given it captured the superior power evidenced in Model 1 with less complexity / variables needed.  This feature reduction model chose features based on a threshold of 0.1.  Note, we set the penalty term to \"l2\", C to 0.05 and the algorithm used to optimize the problem (i.e. the solver) was liblinear.  We also set class_weight to \"balanced\" as we found our initial outputs resulting in positively skewed predictions.  Details on such model building efforts is as follows:"
   ]
  },
  {
   "cell_type": "markdown",
   "id": "5efebcd4",
   "metadata": {},
   "source": [
    "## MODEL 1\n",
    "\n",
    "Includes all explanatory variables"
   ]
  },
  {
   "cell_type": "code",
   "execution_count": 6,
   "id": "893fb92d",
   "metadata": {},
   "outputs": [],
   "source": [
    "# MODEL 1\n",
    "\n",
    "# Import needed packages\n",
    "from sklearn.linear_model import LogisticRegression\n",
    "from sklearn import metrics as mt\n",
    "\n",
    "# Test train split \n",
    "import numpy as np\n",
    "from sklearn.model_selection import train_test_split\n",
    "\n",
    "X_train, X_test, y_train, y_test = train_test_split(X, y, test_size=0.2, random_state=123)"
   ]
  },
  {
   "cell_type": "code",
   "execution_count": 7,
   "id": "0cef1e27",
   "metadata": {},
   "outputs": [
    {
     "data": {
      "text/html": [
       "<div>\n",
       "<style scoped>\n",
       "    .dataframe tbody tr th:only-of-type {\n",
       "        vertical-align: middle;\n",
       "    }\n",
       "\n",
       "    .dataframe tbody tr th {\n",
       "        vertical-align: top;\n",
       "    }\n",
       "\n",
       "    .dataframe thead th {\n",
       "        text-align: right;\n",
       "    }\n",
       "</style>\n",
       "<table border=\"1\" class=\"dataframe\">\n",
       "  <thead>\n",
       "    <tr style=\"text-align: right;\">\n",
       "      <th></th>\n",
       "      <th>Fwd_Return_3M_Class</th>\n",
       "      <th>counts</th>\n",
       "    </tr>\n",
       "  </thead>\n",
       "  <tbody>\n",
       "    <tr>\n",
       "      <th>0</th>\n",
       "      <td>0</td>\n",
       "      <td>18747</td>\n",
       "    </tr>\n",
       "    <tr>\n",
       "      <th>1</th>\n",
       "      <td>1</td>\n",
       "      <td>23383</td>\n",
       "    </tr>\n",
       "  </tbody>\n",
       "</table>\n",
       "</div>"
      ],
      "text/plain": [
       "   Fwd_Return_3M_Class  counts\n",
       "0                    0   18747\n",
       "1                    1   23383"
      ]
     },
     "execution_count": 7,
     "metadata": {},
     "output_type": "execute_result"
    }
   ],
   "source": [
    "# Check balance of dependent variables\n",
    "y_train.groupby(['Fwd_Return_3M_Class']).size().reset_index(name='counts')"
   ]
  },
  {
   "cell_type": "code",
   "execution_count": 8,
   "id": "9f8145dd",
   "metadata": {},
   "outputs": [
    {
     "data": {
      "text/html": [
       "<div>\n",
       "<style scoped>\n",
       "    .dataframe tbody tr th:only-of-type {\n",
       "        vertical-align: middle;\n",
       "    }\n",
       "\n",
       "    .dataframe tbody tr th {\n",
       "        vertical-align: top;\n",
       "    }\n",
       "\n",
       "    .dataframe thead th {\n",
       "        text-align: right;\n",
       "    }\n",
       "</style>\n",
       "<table border=\"1\" class=\"dataframe\">\n",
       "  <thead>\n",
       "    <tr style=\"text-align: right;\">\n",
       "      <th></th>\n",
       "      <th>Fwd_Return_3M_Class</th>\n",
       "      <th>counts</th>\n",
       "    </tr>\n",
       "  </thead>\n",
       "  <tbody>\n",
       "    <tr>\n",
       "      <th>0</th>\n",
       "      <td>0</td>\n",
       "      <td>4615</td>\n",
       "    </tr>\n",
       "    <tr>\n",
       "      <th>1</th>\n",
       "      <td>1</td>\n",
       "      <td>5918</td>\n",
       "    </tr>\n",
       "  </tbody>\n",
       "</table>\n",
       "</div>"
      ],
      "text/plain": [
       "   Fwd_Return_3M_Class  counts\n",
       "0                    0    4615\n",
       "1                    1    5918"
      ]
     },
     "execution_count": 8,
     "metadata": {},
     "output_type": "execute_result"
    }
   ],
   "source": [
    "y_test.groupby(['Fwd_Return_3M_Class']).size().reset_index(name='counts')"
   ]
  },
  {
   "cell_type": "code",
   "execution_count": 9,
   "id": "d7db6e47",
   "metadata": {},
   "outputs": [],
   "source": [
    "# Normalize / scale variables\n",
    "from sklearn.preprocessing import StandardScaler\n",
    "\n",
    "# scale attributes by the training set\n",
    "scl_obj = StandardScaler()\n",
    "scl_obj.fit(X_train) # find scalings for each column that make this zero mean and unit std\n",
    "\n",
    "X_train_scaled = scl_obj.transform(X_train) # apply to training\n",
    "X_test_scaled = scl_obj.transform(X_test) # apply those means and std to the test set (without snooping at the test set values)"
   ]
  },
  {
   "cell_type": "code",
   "execution_count": 10,
   "id": "cfaf3523",
   "metadata": {},
   "outputs": [],
   "source": [
    "# train the model \n",
    "\n",
    "# Model 1\n",
    "lr_clf = LogisticRegression(penalty='l2', C=0.05, solver='liblinear', class_weight=\"balanced\") "
   ]
  },
  {
   "cell_type": "code",
   "execution_count": 11,
   "id": "91bf32d2",
   "metadata": {},
   "outputs": [
    {
     "name": "stdout",
     "output_type": "stream",
     "text": [
      "accuracy: 0.5497009399031615\n",
      "[[2536 2079]\n",
      " [2664 3254]]\n",
      "F1 score: 0.5784374722246911\n",
      "AUC: 0.5496801904833739\n",
      "--- 1.7768828868865967 seconds ---\n"
     ]
    }
   ],
   "source": [
    "# Start clock / time to run one logistic regression model code\n",
    "import time\n",
    "start_time = time.time()\n",
    "\n",
    "# Train object\n",
    "lr_clf.fit(X_train_scaled,y_train.values.ravel())  \n",
    "\n",
    "# Get test set predictions\n",
    "y_hat = lr_clf.predict(X_test_scaled) \n",
    "\n",
    "# Accuracy\n",
    "acc = mt.accuracy_score(y_test,y_hat)\n",
    "conf = mt.confusion_matrix(y_test,y_hat)\n",
    "print('accuracy:', acc )\n",
    "print(conf )\n",
    "\n",
    "#calculate F1 score\n",
    "f1 = f1_score(y_test, y_hat)\n",
    "print('F1 score:', f1 )\n",
    "\n",
    "#calculate AUC\n",
    "auc = roc_auc_score(y_test, y_hat)\n",
    "print('AUC:', auc )\n",
    "\n",
    "# Print time to run model code\n",
    "print(\"--- %s seconds ---\" % (time.time() - start_time))"
   ]
  },
  {
   "cell_type": "markdown",
   "id": "31f064d4",
   "metadata": {},
   "source": [
    "## MODEL 2 & 3\n",
    "\n",
    "Alternate logistic regression models using feature reduction.\n",
    "\n",
    "Model 2 uses feature importance weights for explanatory variables >= 0.1.\n",
    "\n",
    "Model 3 uses feature importance weights for explanatory variables >= 0.3.\n",
    "\n",
    "Although Model 2 reduces the amount of explanatory variables and to those with higher weights and incrementally improves the speed of the model calculation, there is a slight reduction to accuracy.  And given the speed differential is minimal, as mentioned above, we chose Model 1 as our final logistic regression model."
   ]
  },
  {
   "cell_type": "code",
   "execution_count": 12,
   "id": "ebdc83b0",
   "metadata": {},
   "outputs": [
    {
     "name": "stdout",
     "output_type": "stream",
     "text": [
      "<class 'pandas.core.frame.DataFrame'>\n",
      "RangeIndex: 52663 entries, 0 to 52662\n",
      "Data columns (total 15 columns):\n",
      " #   Column               Non-Null Count  Dtype  \n",
      "---  ------               --------------  -----  \n",
      " 0   An_Down_6M           52663 non-null  float64\n",
      " 1   Best_EPS_6M_Rank     52663 non-null  float64\n",
      " 2   Best_EPS_1Y_Rank     52663 non-null  float64\n",
      " 3   An_Mark_6M           52663 non-null  float64\n",
      " 4   An_Unch_6M           52663 non-null  float64\n",
      " 5   An_Unch              52663 non-null  float64\n",
      " 6   NRR                  52663 non-null  float64\n",
      " 7   An_Mark              52663 non-null  float64\n",
      " 8   An_Down              52663 non-null  float64\n",
      " 9   Best_EPS_5Y_R2_Rank  52663 non-null  float64\n",
      " 10  Best_EPS_3Y_R2       52663 non-null  float64\n",
      " 11  Best_EPS_Mean_Med    52663 non-null  float64\n",
      " 12  Best_EPS_Hi_Lo       52663 non-null  float64\n",
      " 13  Best_EPS_Sigma_1Y    52663 non-null  float64\n",
      " 14  ROIC                 52663 non-null  float64\n",
      "dtypes: float64(15)\n",
      "memory usage: 6.0 MB\n"
     ]
    }
   ],
   "source": [
    "#MODEL 2\n",
    "#explanatory variables for feature reduction model\n",
    "# Selected by weights greater than .1\n",
    "X2 = df[['An_Down_6M','Best_EPS_6M_Rank', 'Best_EPS_1Y_Rank', 'An_Mark_6M','An_Unch_6M','An_Unch','NRR',\n",
    "        'An_Mark','An_Down','Best_EPS_5Y_R2_Rank','Best_EPS_3Y_R2','Best_EPS_Mean_Med','Best_EPS_Hi_Lo','Best_EPS_Sigma_1Y',\n",
    "        'ROIC']]\n",
    "\n",
    "X2.info()"
   ]
  },
  {
   "cell_type": "code",
   "execution_count": 13,
   "id": "32fa34c2",
   "metadata": {},
   "outputs": [
    {
     "name": "stdout",
     "output_type": "stream",
     "text": [
      "<class 'pandas.core.frame.DataFrame'>\n",
      "RangeIndex: 52663 entries, 0 to 52662\n",
      "Data columns (total 1 columns):\n",
      " #   Column               Non-Null Count  Dtype\n",
      "---  ------               --------------  -----\n",
      " 0   Fwd_Return_3M_Class  52663 non-null  int64\n",
      "dtypes: int64(1)\n",
      "memory usage: 411.6 KB\n"
     ]
    }
   ],
   "source": [
    "# y = response variable\n",
    "y2 = df[['Fwd_Return_3M_Class']]\n",
    "y2.info()"
   ]
  },
  {
   "cell_type": "code",
   "execution_count": 14,
   "id": "f44d495f",
   "metadata": {},
   "outputs": [],
   "source": [
    "# Logistical Regression Object\n",
    "lr_clf2 = LogisticRegression(penalty='l2', C=1.0, class_weight=\"balanced\", solver='liblinear', random_state=123) "
   ]
  },
  {
   "cell_type": "code",
   "execution_count": 15,
   "id": "a1e07f4f",
   "metadata": {},
   "outputs": [],
   "source": [
    "# Test train split \n",
    "X2_train, X2_test, y2_train, y2_test = train_test_split(X2, y2, test_size=0.2, random_state=123)"
   ]
  },
  {
   "cell_type": "code",
   "execution_count": 16,
   "id": "b2be7693",
   "metadata": {},
   "outputs": [],
   "source": [
    "# scale attributes by the training set\n",
    "scl_obj2 = StandardScaler()\n",
    "scl_obj2.fit(X2_train) # find scalings for each column that make this zero mean and unit std\n",
    "\n",
    "X_train_scaled2 = scl_obj2.transform(X2_train) # apply to training\n",
    "X_test_scaled2 = scl_obj2.transform(X2_test) # apply those means and std to the test set (without snooping at the test set values)"
   ]
  },
  {
   "cell_type": "code",
   "execution_count": 17,
   "id": "ebf783dc",
   "metadata": {},
   "outputs": [
    {
     "name": "stdout",
     "output_type": "stream",
     "text": [
      "accuracy: 0.5475173264976739\n",
      "[[2478 2137]\n",
      " [2629 3289]]\n",
      "F1 score: 0.5798660084626234\n",
      "AUC: 0.5463534135899181\n",
      "--- 0.15857815742492676 seconds ---\n"
     ]
    }
   ],
   "source": [
    "# Start clock / time to run one logistic regression model code\n",
    "import time\n",
    "start_time = time.time()\n",
    "\n",
    "# Train object\n",
    "lr_clf2.fit(X_train_scaled2,y2_train.values.ravel())  \n",
    "\n",
    "# Get test set predictions\n",
    "y_hat2 = lr_clf2.predict(X_test_scaled2) \n",
    "\n",
    "# Accuracy\n",
    "acc = mt.accuracy_score(y2_test,y_hat2)\n",
    "conf = mt.confusion_matrix(y2_test,y_hat2)\n",
    "print('accuracy:', acc )\n",
    "print(conf )\n",
    "\n",
    "#calculate F1 score\n",
    "f1 = f1_score(y2_test, y_hat2)\n",
    "print('F1 score:', f1 )\n",
    "\n",
    "#calculate AUC\n",
    "auc = roc_auc_score(y2_test, y_hat2)\n",
    "print('AUC:', auc )\n",
    "\n",
    "# Print time to run model code\n",
    "print(\"--- %s seconds ---\" % (time.time() - start_time))"
   ]
  },
  {
   "cell_type": "code",
   "execution_count": 18,
   "id": "f2d4ce6a",
   "metadata": {},
   "outputs": [
    {
     "name": "stdout",
     "output_type": "stream",
     "text": [
      "<class 'pandas.core.frame.DataFrame'>\n",
      "RangeIndex: 52663 entries, 0 to 52662\n",
      "Data columns (total 11 columns):\n",
      " #   Column               Non-Null Count  Dtype  \n",
      "---  ------               --------------  -----  \n",
      " 0   An_Down_6M           52663 non-null  float64\n",
      " 1   Best_EPS_1Y_Rank     52663 non-null  float64\n",
      " 2   An_Mark_6M           52663 non-null  float64\n",
      " 3   An_Mark              52663 non-null  float64\n",
      " 4   An_Down              52663 non-null  float64\n",
      " 5   Best_EPS_5Y_R2_Rank  52663 non-null  float64\n",
      " 6   Best_EPS_3Y_R2       52663 non-null  float64\n",
      " 7   Best_EPS_Mean_Med    52663 non-null  float64\n",
      " 8   Best_EPS_Hi_Lo       52663 non-null  float64\n",
      " 9   Best_EPS_Sigma_1Y    52663 non-null  float64\n",
      " 10  ROIC                 52663 non-null  float64\n",
      "dtypes: float64(11)\n",
      "memory usage: 4.4 MB\n"
     ]
    }
   ],
   "source": [
    "#MODEL 3\n",
    "#explanatory variables for feature reduction model\n",
    "# Selected by weights greater than .3\n",
    "X3 = df[['An_Down_6M', 'Best_EPS_1Y_Rank', 'An_Mark_6M',\n",
    "        'An_Mark','An_Down','Best_EPS_5Y_R2_Rank','Best_EPS_3Y_R2','Best_EPS_Mean_Med','Best_EPS_Hi_Lo','Best_EPS_Sigma_1Y',\n",
    "        'ROIC']]\n",
    "\n",
    "X3.info()"
   ]
  },
  {
   "cell_type": "code",
   "execution_count": 19,
   "id": "ff11ec74",
   "metadata": {},
   "outputs": [
    {
     "name": "stdout",
     "output_type": "stream",
     "text": [
      "<class 'pandas.core.frame.DataFrame'>\n",
      "RangeIndex: 52663 entries, 0 to 52662\n",
      "Data columns (total 1 columns):\n",
      " #   Column               Non-Null Count  Dtype\n",
      "---  ------               --------------  -----\n",
      " 0   Fwd_Return_3M_Class  52663 non-null  int64\n",
      "dtypes: int64(1)\n",
      "memory usage: 411.6 KB\n"
     ]
    }
   ],
   "source": [
    "# y = response variable\n",
    "y3 = df[['Fwd_Return_3M_Class']]\n",
    "y3.info()"
   ]
  },
  {
   "cell_type": "code",
   "execution_count": 20,
   "id": "274e7181",
   "metadata": {},
   "outputs": [],
   "source": [
    "# Logistical Regression Object\n",
    "lr_clf3 = LogisticRegression(penalty='l2', C=1.0, class_weight=\"balanced\", solver='liblinear', random_state=123) "
   ]
  },
  {
   "cell_type": "code",
   "execution_count": 21,
   "id": "399af03e",
   "metadata": {},
   "outputs": [],
   "source": [
    "# Test train split \n",
    "X3_train, X3_test, y3_train, y3_test = train_test_split(X3, y3, test_size=0.2, random_state=123)"
   ]
  },
  {
   "cell_type": "code",
   "execution_count": 22,
   "id": "421c83c6",
   "metadata": {},
   "outputs": [],
   "source": [
    "# scale attributes by the training set\n",
    "scl_obj3 = StandardScaler()\n",
    "scl_obj3.fit(X3_train) # find scalings for each column that make this zero mean and unit std\n",
    "\n",
    "X_train_scaled3 = scl_obj3.transform(X3_train) # apply to training\n",
    "X_test_scaled3 = scl_obj3.transform(X3_test) # apply those means and std to the test set (without snooping at the test set values)"
   ]
  },
  {
   "cell_type": "code",
   "execution_count": 23,
   "id": "8f1dd7c3",
   "metadata": {},
   "outputs": [
    {
     "name": "stdout",
     "output_type": "stream",
     "text": [
      "accuracy: 0.5381182948827494\n",
      "[[2411 2204]\n",
      " [2661 3257]]\n",
      "F1 score: 0.5724580367343352\n",
      "AUC: 0.5363908592585486\n",
      "--- 0.05707120895385742 seconds ---\n"
     ]
    }
   ],
   "source": [
    "# Start clock / time to run one logistic regression model code\n",
    "import time\n",
    "start_time = time.time()\n",
    "\n",
    "# Train object\n",
    "lr_clf3.fit(X_train_scaled3,y3_train.values.ravel())  \n",
    "\n",
    "# Get test set predictions\n",
    "y_hat3 = lr_clf3.predict(X_test_scaled3) \n",
    "\n",
    "# Accuracy\n",
    "acc = mt.accuracy_score(y3_test,y_hat3)\n",
    "conf = mt.confusion_matrix(y3_test,y_hat3)\n",
    "print('accuracy:', acc )\n",
    "print(conf )\n",
    "\n",
    "#calculate F1 score\n",
    "f1 = f1_score(y3_test, y_hat3)\n",
    "print('F1 score:', f1 )\n",
    "\n",
    "#calculate AUC\n",
    "auc = roc_auc_score(y3_test, y_hat3)\n",
    "print('AUC:', auc )\n",
    "\n",
    "# Print time to run model code\n",
    "print(\"--- %s seconds ---\" % (time.time() - start_time))"
   ]
  },
  {
   "cell_type": "markdown",
   "id": "632459b7",
   "metadata": {},
   "source": [
    "## MODEL 4\n",
    "\n",
    "Model 4 uses dimension reduction / PCA to build the explanatory variables.  Upon running our PCA analysis, we chose to use 10 principle components in our model based on the results of the scree plot which should this amount captured nearly 100% of the total variance.\n"
   ]
  },
  {
   "cell_type": "code",
   "execution_count": 24,
   "id": "1760f63d",
   "metadata": {},
   "outputs": [
    {
     "name": "stdout",
     "output_type": "stream",
     "text": [
      "Eigenvalues:\n",
      "[4.17998999e+00 2.32216808e+00 2.00281699e+00 1.84349987e+00\n",
      " 1.07838281e+00 9.62395946e-01 9.19740332e-01 6.02294977e-01\n",
      " 5.02452108e-01 3.30426015e-01 2.39824046e-01 7.51204665e-03\n",
      " 5.96588549e-03 1.85253578e-03 9.63204410e-04]\n",
      "\n",
      "Variances (Percentage):\n",
      "[2.78660708e+01 1.54808266e+01 1.33518597e+01 1.22897658e+01\n",
      " 7.18908222e+00 6.41585114e+00 6.13148578e+00 4.01522360e+00\n",
      " 3.34961711e+00 2.20279827e+00 1.59879661e+00 5.00793601e-02\n",
      " 3.97718147e-02 1.23500040e-02 6.42124080e-03]\n",
      "\n"
     ]
    },
    {
     "data": {
      "text/plain": [
       "Text(0, 0.5, 'Explained variance (%)')"
      ]
     },
     "execution_count": 24,
     "metadata": {},
     "output_type": "execute_result"
    },
    {
     "data": {
      "image/png": "[encoded data removed]",
      "text/plain": [
       "<Figure size 432x288 with 1 Axes>"
      ]
     },
     "metadata": {
      "needs_background": "light"
     },
     "output_type": "display_data"
    }
   ],
   "source": [
    "from matplotlib import pyplot\n",
    "\n",
    "# Do feature scaling\n",
    "from sklearn.preprocessing import StandardScaler\n",
    "sc = StandardScaler()\n",
    "X_scaled = sc.fit_transform(X2)\n",
    "\n",
    "# Apply PCA\n",
    "from sklearn.decomposition import PCA\n",
    "pca = PCA(n_components=None)\n",
    "pca.fit(X_scaled)\n",
    "\n",
    "# Get the eigenvalues\n",
    "print(\"Eigenvalues:\")\n",
    "print(pca.explained_variance_)\n",
    "print()\n",
    "\n",
    "# Get explained variances\n",
    "print(\"Variances (Percentage):\")\n",
    "print(pca.explained_variance_ratio_ * 100)\n",
    "print()\n",
    "\n",
    "# Make the scree plot\n",
    "pyplot.plot(np.cumsum(pca.explained_variance_ratio_ * 100))\n",
    "pyplot.xlabel(\"Number of components (Dimensions)\")\n",
    "pyplot.ylabel(\"Explained variance (%)\")"
   ]
  },
  {
   "cell_type": "code",
   "execution_count": 25,
   "id": "6c6dba71",
   "metadata": {},
   "outputs": [
    {
     "name": "stdout",
     "output_type": "stream",
     "text": [
      "          0         1         2         3         4         5         6  \\\n",
      "0 -0.268409  1.273752 -1.008550 -0.071486 -1.297822  1.137634  0.003183   \n",
      "1  4.393952 -1.949254 -0.755515 -0.172601  3.400657  0.310062  1.713363   \n",
      "2 -0.694271  1.550715  1.047877  1.099140  0.513444 -0.418342 -1.015187   \n",
      "3  0.993207 -1.655574 -0.745595 -0.597915  0.352893  0.365016 -0.318081   \n",
      "4 -1.570718 -0.914930  1.250978 -0.131635  0.319105 -0.043232 -0.357801   \n",
      "\n",
      "          7         8         9  \n",
      "0  1.896500 -0.399462 -1.315777  \n",
      "1  0.048878 -1.276809  2.009399  \n",
      "2  0.480146  0.980311 -0.987108  \n",
      "3  1.750193 -0.038827 -0.389318  \n",
      "4 -0.956501 -0.625114  0.598352  \n",
      "\n",
      "Size: \n",
      "(52663, 10)\n"
     ]
    }
   ],
   "source": [
    "# Do feature scaling\n",
    "from sklearn.preprocessing import StandardScaler\n",
    "sc = StandardScaler()\n",
    "X_scaled = sc.fit_transform(X2)\n",
    "\n",
    "# Apply PCA\n",
    "from sklearn.decomposition import PCA\n",
    "pca = PCA(n_components=10)\n",
    "X_pca = pca.fit_transform(X_scaled)\n",
    "\n",
    "# Get the transformed dataset\n",
    "X_pca = pd.DataFrame(X_pca)\n",
    "print(X_pca.head())\n",
    "print(\"\\nSize: \")\n",
    "print(X_pca.shape)"
   ]
  },
  {
   "cell_type": "code",
   "execution_count": 26,
   "id": "0b2100a0",
   "metadata": {},
   "outputs": [
    {
     "name": "stdout",
     "output_type": "stream",
     "text": [
      "<class 'pandas.core.frame.DataFrame'>\n",
      "RangeIndex: 52663 entries, 0 to 52662\n",
      "Data columns (total 1 columns):\n",
      " #   Column               Non-Null Count  Dtype\n",
      "---  ------               --------------  -----\n",
      " 0   Fwd_Return_3M_Class  52663 non-null  int64\n",
      "dtypes: int64(1)\n",
      "memory usage: 411.6 KB\n"
     ]
    }
   ],
   "source": [
    "# y = response variable\n",
    "y4 = df[['Fwd_Return_3M_Class']]\n",
    "y4.info()"
   ]
  },
  {
   "cell_type": "code",
   "execution_count": 27,
   "id": "0df40a65",
   "metadata": {},
   "outputs": [],
   "source": [
    "# Logistical Regression Object\n",
    "lr_clf4 = LogisticRegression(penalty='l2', C=1.0, class_weight=\"balanced\", solver='liblinear', random_state=123) "
   ]
  },
  {
   "cell_type": "code",
   "execution_count": 28,
   "id": "2d4b44c6",
   "metadata": {},
   "outputs": [],
   "source": [
    "# Test train split \n",
    "X4_train_pca, X4_test_pca, y4_train, y4_test = train_test_split(X_pca, y4, test_size=0.2, random_state=123)"
   ]
  },
  {
   "cell_type": "code",
   "execution_count": 29,
   "id": "4f49ca94",
   "metadata": {},
   "outputs": [
    {
     "name": "stdout",
     "output_type": "stream",
     "text": [
      "accuracy: 0.5394474508686984\n",
      "[[2486 2129]\n",
      " [2722 3196]]\n",
      "F1 score: 0.568531530730232\n",
      "AUC: 0.5393627682333897\n",
      "--- 0.05408167839050293 seconds ---\n"
     ]
    }
   ],
   "source": [
    "# Start clock / time to run one logistic regression model code\n",
    "import time\n",
    "start_time = time.time()\n",
    "\n",
    "# Train object\n",
    "lr_clf4.fit(X4_train_pca,y4_train.values.ravel())  \n",
    "\n",
    "# Get test set predictions\n",
    "y_hat4 = lr_clf4.predict(X4_test_pca) \n",
    "\n",
    "# Accuracy\n",
    "acc = mt.accuracy_score(y4_test,y_hat4)\n",
    "conf = mt.confusion_matrix(y4_test,y_hat4)\n",
    "print('accuracy:', acc )\n",
    "print(conf )\n",
    "\n",
    "#calculate F1 score\n",
    "f1 = f1_score(y4_test, y_hat4)\n",
    "print('F1 score:', f1 )\n",
    "\n",
    "#calculate AUC\n",
    "auc = roc_auc_score(y4_test, y_hat4)\n",
    "print('AUC:', auc )\n",
    "\n",
    "# Print time to run model code\n",
    "print(\"--- %s seconds ---\" % (time.time() - start_time))"
   ]
  },
  {
   "cell_type": "markdown",
   "id": "71c6ff7e",
   "metadata": {},
   "source": [
    "### Logistic regression final\n",
    "\n",
    "As detailed above, after assessing our four models we decided to go with Model 2 which chose features based on a 0.1 threshold. "
   ]
  },
  {
   "cell_type": "code",
   "execution_count": 30,
   "id": "3554ae50",
   "metadata": {},
   "outputs": [
    {
     "name": "stdout",
     "output_type": "stream",
     "text": [
      "accuracy: 0.5475173264976739\n",
      "[[2478 2137]\n",
      " [2629 3289]]\n",
      "F1 score: 0.5798660084626234\n",
      "AUC: 0.5463534135899181\n"
     ]
    }
   ],
   "source": [
    "# Accuracy\n",
    "acc = mt.accuracy_score(y2_test,y_hat2)\n",
    "conf = mt.confusion_matrix(y2_test,y_hat2)\n",
    "print('accuracy:', acc )\n",
    "print(conf )\n",
    "\n",
    "#calculate F1 score\n",
    "f1 = f1_score(y2_test, y_hat2)\n",
    "print('F1 score:', f1 )\n",
    "\n",
    "#calculate AUC\n",
    "auc = roc_auc_score(y2_test, y_hat2)\n",
    "print('AUC:', auc )"
   ]
  },
  {
   "cell_type": "markdown",
   "id": "c8779269",
   "metadata": {},
   "source": [
    "# LOGISTIC  REGRESSION FEATURE INSIGHT"
   ]
  },
  {
   "cell_type": "markdown",
   "id": "b2ecc6d5",
   "metadata": {},
   "source": [
    "Upon completion of building and finalizing our logistic modelling efforts, we then sought to explore which features showed the most efficacy on our chosen model.  \n",
    "\n",
    "The top 5 variables based on absolute values with their respective coefficient are as follows (in order from highest to lowest):\n",
    "\n",
    "An_Down_6M (0.268)\n",
    "\n",
    "An_Down (-0.249)\n",
    "\n",
    "Best_EPS_1Y_Rank (0.180)\n",
    "\n",
    "An_Mark (0.175)\n",
    "\n",
    "Best_EPS_Mean_Med (0.171)\n",
    "\n",
    "Refresher on the definition of each of these variables:\n",
    "An_Down - This represents the percentage during the past 3 month period of total revisions by the sell side analysts covering a given stock which were negative.\n",
    "An_Down_6M - This variable seeks to capture the second derivative changes of \"An_Down\" and is calculated by subtracting the \"An_Down\" value 6 months ago from the current value.  This helps to determine the overall trend in such negative revisions during this time period.\n",
    "Best_EPS_1Y_Rank - This represents the rank of a stock in this universe based on the past 1 year growth rate of their median consensus EPS.\n",
    "An_Mark - This metric came from FactSet and seeks to quantify the relative trend in the analyst revisions with the lower being better.\n",
    "Best_EPS_Mean_Med - This variable is one we created which seeks to capture the tightness of the consensus estimates and the potential for outliers (both positive and negative) by subtracting the current mean and median consensus EPS values from each other.  \n",
    "\n",
    "The latter three variables seem to be intuitive with their predictability based on the following:\n",
    "\n",
    "Based on the concept of momentum (which is the basis of our EPS Estimate Revision MOMENTUM modelling efforts detailed in the prior lab and serves as the same data used in this lab), we were not surprised to see Best_EPS_1Y_Rank showing efficacy and a positive relationship with predicting whether a stock will outperform or not during the next 3 months.  It appears that a 1 year trend is more powerful in it's predictability than both shorter and longer term calculations thus may be a sweet spot of not being too short of a time period which can capture noise in the data and too long term which is not able to capture changes in trend.\n",
    "\n",
    "Also confirming our thoughts on the subject of the power of EPS revisions on stocks (both their EPS and price trends) was the An_Mark variable which also had a positive relationship showing that it is better for the stock price to have the relative trend of analyst revisions be positive, which thus increases that stock's chance of outperforming during the next 3 months.\n",
    "\n",
    "The Best_EPS_Mean_Med variables positive relationship interestingly showed a positive relationship which we read to say that positive outliers in EPS consensus estimates are good and vice versa.  For example, if there are at least one EPS estimate that is far from the median and thus pulls the mean value above the median value, then per our model that is a positive signal regarding the stock's probability to outperform during the next 3 months.  Potentially the outlier estimate is more informed about the stock's outlook than the others thus their estimate should be respected and even when it deviates for the rest of the group.\n",
    "\n",
    "The most complex yet interesting variables were the top two which were An_Down and An_Down_6M which showed positive and negative relationships with the response variable, respectively.  The overall theory we have for this result is based on the emotions of the stock market whereby negative sentiment towards a stock can be extrapolated incorrectly especially in the short term.  To best explain what may be going on with these variables we will provide an example.  Let's assume XYZ stock has a An_Down value of 100 which means that 100% of the analysts have revised their estimates down during the past 3 months.  As such, this is deemed to be negative for the stock price during the next 3 months per our model.  At this same time, let's assume the An_Down_6M value is also 100 which means that the An_Down value 6 months ago was 0 and implies that the negative revisions have taken place in recent months (i.e. this negative trend has not been in place for greater than 6 months).  This implies that the sentiment towards EPS has turned down from where it was more recently.  So how can this be a potential positive for the stock price in the next 3 months?  This goes back to our extrapolation theory that when analysts get too negative too fast in the short term they may have become extrapolated incorrectly and become too pessimistic (and vice versa) in their estimates which the market will self correct by mean reverting the stock during the next 3 months.  "
   ]
  },
  {
   "cell_type": "code",
   "execution_count": 31,
   "id": "13ac84a7",
   "metadata": {},
   "outputs": [
    {
     "name": "stdout",
     "output_type": "stream",
     "text": [
      "Mkt_Cap has weight of 0.06339181346896815\n",
      "Best_EPS_1M has weight of 0.02981940372559301\n",
      "Best_EPS_3M has weight of 0.07739567412063798\n",
      "Best_EPS_6M has weight of -0.09810620552400352\n",
      "Best_EPS_1Y has weight of 0.021654608074385764\n",
      "Best_EPS_3Y has weight of -0.03397002957007806\n",
      "Best_EPS_5Y has weight of 0.0542894453710077\n",
      "Best_EPS_3M_v5Y has weight of -0.031186693275290066\n",
      "Best_EPS_6M_v5Y has weight of 0.007988678475061793\n",
      "Best_EPS_1Y_v5Y has weight of 0.07079934752934008\n",
      "Best_EPS_3Y_v5Y has weight of 0.042300586368622606\n",
      "Best_EPS_3M_Rank has weight of 0.05138967066047808\n",
      "Best_EPS_6M_Rank has weight of 0.13303884028329582\n",
      "Best_EPS_1Y_Rank has weight of -0.17960947094994778\n",
      "ST_Accel has weight of 0.0022803953095344243\n",
      "ST_Accel_Class has weight of -0.049082651661175994\n",
      "NRR_6M has weight of -0.09229040875008288\n",
      "An_Mark_6M has weight of -0.12977449819621054\n",
      "An_Unch_6M has weight of 0.14102728063501518\n",
      "An_Down_6M has weight of 0.2679221216251654\n",
      "An_Up_6M has weight of 0.08463363671350309\n",
      "NRR_3M has weight of -0.04570983162247072\n",
      "An_Mark_3M has weight of -0.03192530731015627\n",
      "An_Unch_3M has weight of -0.02340315818774257\n",
      "An_Down_3M has weight of 0.06389517169921048\n",
      "An_Up_3M has weight of -0.01886992371151457\n",
      "NRR has weight of 0.1020252847405402\n",
      "An_Mark has weight of 0.16951114547705415\n",
      "An_Unch has weight of -0.03618005079198736\n",
      "An_Down has weight of -0.2493634865965469\n",
      "An_Up has weight of -0.043743556773895236\n",
      "Return_1M has weight of 0.0019303513262677676\n",
      "Return_3M has weight of 0.01919049954002811\n",
      "Return_6M has weight of -0.06949269280302746\n",
      "Best_EPS_5Y_R2 has weight of -0.07801590863764635\n",
      "Best_EPS_5Y_R2_Rank has weight of 0.12061049410212293\n",
      "Best_EPS_5Y_SD has weight of -0.08375326941837627\n",
      "Best_EPS_5Y_Stability has weight of -0.006913115108590823\n",
      "Best_EPS_5Y_R2_p has weight of 0.04570624065834933\n",
      "Best_EPS_3Y_R2 has weight of 0.14851043562158142\n",
      "Best_EPS_3Y_R2_p has weight of -0.1125231417575488\n",
      "Best_EPS_1Y_R2 has weight of 0.07036494981863214\n",
      "Best_EPS_1Y_R2_p has weight of -0.08950250072733479\n",
      "Best_EPS_Sigma has weight of -0.056122773792118566\n",
      "Best_EPS_Mean_Med has weight of 0.17518286427548946\n",
      "Best_EPS_Hi_Lo has weight of -0.12634100312464064\n",
      "Best_EPS_Up_10_6M has weight of -0.007770832149182022\n",
      "Best_EPS_Up_10_3M has weight of -0.02271498090004839\n",
      "Best_EPS_Up_10_1M has weight of -0.02370191935697262\n",
      "Best_EPS_5Y_CV has weight of 0.08689255605204409\n",
      "Best_EPS_Dn_10_6M has weight of 0.027636198803860607\n",
      "Best_EPS_Dn_10_3M has weight of 0.001039058265903819\n",
      "Best_EPS_Dn_10_1M has weight of -0.014852610022003034\n",
      "Best_EPS_Sigma_3M has weight of -0.03359924613113928\n",
      "Best_EPS_Sigma_6M has weight of -0.020300793837229405\n",
      "Best_EPS_Sigma_1Y has weight of 0.1005446993975023\n",
      "ROIC has weight of 0.10704343163153315\n",
      "ROIC_1Y_Chg has weight of -0.018052787894925242\n",
      "ROIC_SD has weight of -0.06972534276761251\n",
      "ROE has weight of 0.0204388418550081\n",
      "ROE_1Y_Chg has weight of 0.037988115276170555\n",
      "ROE_SD has weight of 0.029550998751595503\n",
      "FCF_Mgn has weight of 0.12567981370251408\n",
      "FCF_Mgn_1Y_Chg has weight of -0.05468586116897065\n",
      "FCF_Mgn_SD has weight of -0.009219532339242945\n",
      "Op_Mgn has weight of -0.11572240091704035\n",
      "Op_Mgn_1Y_Chg has weight of 0.03848977146028176\n",
      "Op_Mgn_SD has weight of 0.0017720372625409336\n"
     ]
    }
   ],
   "source": [
    "# List out attributes with coefficients for Model 1\n",
    "zip_vars = zip(lr_clf.coef_.T,X.columns) \n",
    "for coef, name in zip_vars:\n",
    "    print(name, 'has weight of', coef[0]) "
   ]
  },
  {
   "cell_type": "code",
   "execution_count": 32,
   "id": "e1f4d9dc",
   "metadata": {},
   "outputs": [
    {
     "name": "stdout",
     "output_type": "stream",
     "text": [
      "Feature: 0, Score: 0.06339\n",
      "Feature: 1, Score: 0.02982\n",
      "Feature: 2, Score: 0.07740\n",
      "Feature: 3, Score: -0.09811\n",
      "Feature: 4, Score: 0.02165\n",
      "Feature: 5, Score: -0.03397\n",
      "Feature: 6, Score: 0.05429\n",
      "Feature: 7, Score: -0.03119\n",
      "Feature: 8, Score: 0.00799\n",
      "Feature: 9, Score: 0.07080\n",
      "Feature: 10, Score: 0.04230\n",
      "Feature: 11, Score: 0.05139\n",
      "Feature: 12, Score: 0.13304\n",
      "Feature: 13, Score: -0.17961\n",
      "Feature: 14, Score: 0.00228\n",
      "Feature: 15, Score: -0.04908\n",
      "Feature: 16, Score: -0.09229\n",
      "Feature: 17, Score: -0.12977\n",
      "Feature: 18, Score: 0.14103\n",
      "Feature: 19, Score: 0.26792\n",
      "Feature: 20, Score: 0.08463\n",
      "Feature: 21, Score: -0.04571\n",
      "Feature: 22, Score: -0.03193\n",
      "Feature: 23, Score: -0.02340\n",
      "Feature: 24, Score: 0.06390\n",
      "Feature: 25, Score: -0.01887\n",
      "Feature: 26, Score: 0.10203\n",
      "Feature: 27, Score: 0.16951\n",
      "Feature: 28, Score: -0.03618\n",
      "Feature: 29, Score: -0.24936\n",
      "Feature: 30, Score: -0.04374\n",
      "Feature: 31, Score: 0.00193\n",
      "Feature: 32, Score: 0.01919\n",
      "Feature: 33, Score: -0.06949\n",
      "Feature: 34, Score: -0.07802\n",
      "Feature: 35, Score: 0.12061\n",
      "Feature: 36, Score: -0.08375\n",
      "Feature: 37, Score: -0.00691\n",
      "Feature: 38, Score: 0.04571\n",
      "Feature: 39, Score: 0.14851\n",
      "Feature: 40, Score: -0.11252\n",
      "Feature: 41, Score: 0.07036\n",
      "Feature: 42, Score: -0.08950\n",
      "Feature: 43, Score: -0.05612\n",
      "Feature: 44, Score: 0.17518\n",
      "Feature: 45, Score: -0.12634\n",
      "Feature: 46, Score: -0.00777\n",
      "Feature: 47, Score: -0.02271\n",
      "Feature: 48, Score: -0.02370\n",
      "Feature: 49, Score: 0.08689\n",
      "Feature: 50, Score: 0.02764\n",
      "Feature: 51, Score: 0.00104\n",
      "Feature: 52, Score: -0.01485\n",
      "Feature: 53, Score: -0.03360\n",
      "Feature: 54, Score: -0.02030\n",
      "Feature: 55, Score: 0.10054\n",
      "Feature: 56, Score: 0.10704\n",
      "Feature: 57, Score: -0.01805\n",
      "Feature: 58, Score: -0.06973\n",
      "Feature: 59, Score: 0.02044\n",
      "Feature: 60, Score: 0.03799\n",
      "Feature: 61, Score: 0.02955\n",
      "Feature: 62, Score: 0.12568\n",
      "Feature: 63, Score: -0.05469\n",
      "Feature: 64, Score: -0.00922\n",
      "Feature: 65, Score: -0.11572\n",
      "Feature: 66, Score: 0.03849\n",
      "Feature: 67, Score: 0.00177\n"
     ]
    }
   ],
   "source": [
    "# List out attributes by numeric identifier to ease interpretation\n",
    "\n",
    "# get importance\n",
    "importance = lr_clf.coef_[0]\n",
    "# summarize feature importance\n",
    "for i,v in enumerate(importance):\n",
    "\tprint('Feature: %0d, Score: %.5f' % (i,v))"
   ]
  },
  {
   "cell_type": "code",
   "execution_count": 33,
   "id": "3135c29b",
   "metadata": {},
   "outputs": [
    {
     "data": {
      "image/png": "[encoded data removed]",
      "text/plain": [
       "<Figure size 432x288 with 1 Axes>"
      ]
     },
     "metadata": {
      "needs_background": "light"
     },
     "output_type": "display_data"
    }
   ],
   "source": [
    "from matplotlib import pyplot\n",
    "\n",
    "# plot feature importance by numeric identifier to ease interpretation\n",
    "pyplot.bar([x for x in range(len(importance))], importance)\n",
    "pyplot.show()"
   ]
  },
  {
   "cell_type": "code",
   "execution_count": 34,
   "id": "2bafcecf",
   "metadata": {},
   "outputs": [
    {
     "name": "stdout",
     "output_type": "stream",
     "text": [
      "<class 'pandas.core.frame.DataFrame'>\n",
      "RangeIndex: 52663 entries, 0 to 52662\n",
      "Data columns (total 68 columns):\n",
      " #   Column                 Non-Null Count  Dtype  \n",
      "---  ------                 --------------  -----  \n",
      " 0   Mkt_Cap                52663 non-null  float64\n",
      " 1   Best_EPS_1M            52663 non-null  float64\n",
      " 2   Best_EPS_3M            52663 non-null  float64\n",
      " 3   Best_EPS_6M            52663 non-null  float64\n",
      " 4   Best_EPS_1Y            52663 non-null  float64\n",
      " 5   Best_EPS_3Y            52663 non-null  float64\n",
      " 6   Best_EPS_5Y            52663 non-null  float64\n",
      " 7   Best_EPS_3M_v5Y        52663 non-null  float64\n",
      " 8   Best_EPS_6M_v5Y        52663 non-null  float64\n",
      " 9   Best_EPS_1Y_v5Y        52663 non-null  float64\n",
      " 10  Best_EPS_3Y_v5Y        52663 non-null  float64\n",
      " 11  Best_EPS_3M_Rank       52663 non-null  float64\n",
      " 12  Best_EPS_6M_Rank       52663 non-null  float64\n",
      " 13  Best_EPS_1Y_Rank       52663 non-null  float64\n",
      " 14  ST_Accel               52663 non-null  float64\n",
      " 15  ST_Accel_Class         52663 non-null  int64  \n",
      " 16  NRR_6M                 52663 non-null  float64\n",
      " 17  An_Mark_6M             52663 non-null  float64\n",
      " 18  An_Unch_6M             52663 non-null  float64\n",
      " 19  An_Down_6M             52663 non-null  float64\n",
      " 20  An_Up_6M               52663 non-null  float64\n",
      " 21  NRR_3M                 52663 non-null  float64\n",
      " 22  An_Mark_3M             52663 non-null  float64\n",
      " 23  An_Unch_3M             52663 non-null  float64\n",
      " 24  An_Down_3M             52663 non-null  float64\n",
      " 25  An_Up_3M               52663 non-null  float64\n",
      " 26  NRR                    52663 non-null  float64\n",
      " 27  An_Mark                52663 non-null  float64\n",
      " 28  An_Unch                52663 non-null  float64\n",
      " 29  An_Down                52663 non-null  float64\n",
      " 30  An_Up                  52663 non-null  float64\n",
      " 31  Return_1M              52663 non-null  float64\n",
      " 32  Return_3M              52663 non-null  float64\n",
      " 33  Return_6M              52663 non-null  float64\n",
      " 34  Best_EPS_5Y_R2         52663 non-null  float64\n",
      " 35  Best_EPS_5Y_R2_Rank    52663 non-null  float64\n",
      " 36  Best_EPS_5Y_SD         52663 non-null  float64\n",
      " 37  Best_EPS_5Y_Stability  52663 non-null  float64\n",
      " 38  Best_EPS_5Y_R2_p       52663 non-null  float64\n",
      " 39  Best_EPS_3Y_R2         52663 non-null  float64\n",
      " 40  Best_EPS_3Y_R2_p       52663 non-null  float64\n",
      " 41  Best_EPS_1Y_R2         52663 non-null  float64\n",
      " 42  Best_EPS_1Y_R2_p       52663 non-null  float64\n",
      " 43  Best_EPS_Sigma         52663 non-null  float64\n",
      " 44  Best_EPS_Mean_Med      52663 non-null  float64\n",
      " 45  Best_EPS_Hi_Lo         52663 non-null  float64\n",
      " 46  Best_EPS_Up_10_6M      52663 non-null  int64  \n",
      " 47  Best_EPS_Up_10_3M      52663 non-null  int64  \n",
      " 48  Best_EPS_Up_10_1M      52663 non-null  int64  \n",
      " 49  Best_EPS_5Y_CV         52663 non-null  float64\n",
      " 50  Best_EPS_Dn_10_6M      52663 non-null  int64  \n",
      " 51  Best_EPS_Dn_10_3M      52663 non-null  int64  \n",
      " 52  Best_EPS_Dn_10_1M      52663 non-null  int64  \n",
      " 53  Best_EPS_Sigma_3M      52663 non-null  float64\n",
      " 54  Best_EPS_Sigma_6M      52663 non-null  float64\n",
      " 55  Best_EPS_Sigma_1Y      52663 non-null  float64\n",
      " 56  ROIC                   52663 non-null  float64\n",
      " 57  ROIC_1Y_Chg            52663 non-null  float64\n",
      " 58  ROIC_SD                52663 non-null  float64\n",
      " 59  ROE                    52663 non-null  float64\n",
      " 60  ROE_1Y_Chg             52663 non-null  float64\n",
      " 61  ROE_SD                 52663 non-null  float64\n",
      " 62  FCF_Mgn                52663 non-null  float64\n",
      " 63  FCF_Mgn_1Y_Chg         52663 non-null  float64\n",
      " 64  FCF_Mgn_SD             52663 non-null  float64\n",
      " 65  Op_Mgn                 52663 non-null  float64\n",
      " 66  Op_Mgn_1Y_Chg          52663 non-null  float64\n",
      " 67  Op_Mgn_SD              52663 non-null  float64\n",
      "dtypes: float64(61), int64(7)\n",
      "memory usage: 27.3 MB\n"
     ]
    }
   ],
   "source": [
    "# helps to see which numbers align with which variable\n",
    "X.info()"
   ]
  },
  {
   "cell_type": "markdown",
   "id": "375343a3",
   "metadata": {},
   "source": [
    "# SUPPORT VECTOR MACHINES MODELLING"
   ]
  },
  {
   "cell_type": "code",
   "execution_count": 35,
   "id": "771ac4b4",
   "metadata": {},
   "outputs": [],
   "source": [
    "X_svm = X.values\n",
    "y_svm = y.values"
   ]
  },
  {
   "cell_type": "code",
   "execution_count": 36,
   "id": "055f5762",
   "metadata": {},
   "outputs": [],
   "source": [
    "# Normalize / scale variables\n",
    "from sklearn.preprocessing import StandardScaler\n",
    "\n",
    "# scale attributes by the training set\n",
    "scl_obj5 = StandardScaler()\n",
    "scl_obj5.fit(X_svm) # find scalings for each column that make this zero mean and unit std\n",
    "\n",
    "X_scaled = scl_obj5.transform(X_svm) # apply to training"
   ]
  },
  {
   "cell_type": "code",
   "execution_count": 37,
   "id": "0ca879d3",
   "metadata": {},
   "outputs": [
    {
     "name": "stdout",
     "output_type": "stream",
     "text": [
      "ShuffleSplit(n_splits=1, random_state=123, test_size=0.2, train_size=None)\n"
     ]
    }
   ],
   "source": [
    "# Import library\n",
    "from sklearn.svm import SVC\n",
    "\n",
    "# Train the model\n",
    "svm_clf = SVC(C=0.05, kernel='rbf', degree=3, gamma='auto', class_weight=\"balanced\") \n",
    "\n",
    "# Cross validation object\n",
    "from sklearn.model_selection import ShuffleSplit\n",
    "\n",
    "num_cv_iterations = 1\n",
    "num_instances = len(y)\n",
    "cv_object = ShuffleSplit(n_splits=num_cv_iterations,test_size  = 0.2, random_state=123)\n",
    "                         \n",
    "print(cv_object)"
   ]
  },
  {
   "cell_type": "code",
   "execution_count": 38,
   "id": "5329431b",
   "metadata": {},
   "outputs": [
    {
     "name": "stdout",
     "output_type": "stream",
     "text": [
      "====Iteration 0  ====\n",
      "accuracy 0.5976454951106047\n",
      "confusion matrix\n",
      " [[2798 1817]\n",
      " [2421 3497]]\n",
      "F1 score: 0.6226851851851851\n",
      "AUC: 0.5985964739485866\n",
      "--- 229.17084956169128 seconds ---\n"
     ]
    }
   ],
   "source": [
    "# Start clock / time to run one logistic regression model code\n",
    "import time\n",
    "start_time = time.time()\n",
    "\n",
    "iter_num=0\n",
    "# the indices are the rows used for training and testing in each iteration\n",
    "for train_indices, test_indices in cv_object.split(X_scaled,y): \n",
    "    X_train = X_scaled[train_indices]\n",
    "    y_train = y_svm[train_indices]\n",
    "    \n",
    "    X_test = X_scaled[test_indices]\n",
    "    y_test = y_svm[test_indices]\n",
    "    \n",
    "    svm_clf.fit(X_train,y_train.ravel())  # train object\n",
    "    y_hat = svm_clf.predict(X_test) # get test set predictions\n",
    "\n",
    "    # accuracy and confusion matrix for this iterations of training/testing\n",
    "    acc = mt.accuracy_score(y_test,y_hat)\n",
    "    conf = mt.confusion_matrix(y_test,y_hat)\n",
    "    print(\"====Iteration\",iter_num,\" ====\")\n",
    "    print(\"accuracy\", acc )\n",
    "    print(\"confusion matrix\\n\",conf)\n",
    "    \n",
    "    #calculate F1 score\n",
    "    f1 = f1_score(y_test, y_hat)\n",
    "    print('F1 score:', f1 )\n",
    "    \n",
    "    #calculate AUC\n",
    "    auc = roc_auc_score(y_test, y_hat)\n",
    "    print('AUC:', auc )\n",
    "    \n",
    "    iter_num+=1\n",
    "    \n",
    "# Print time to run model code\n",
    "print(\"--- %s seconds ---\" % (time.time() - start_time))"
   ]
  },
  {
   "cell_type": "markdown",
   "id": "4e4cdf25",
   "metadata": {},
   "source": [
    "# SUPPORT VECTOR INSIGHT"
   ]
  },
  {
   "cell_type": "code",
   "execution_count": 39,
   "id": "7d41b2b8",
   "metadata": {
    "scrolled": true
   },
   "outputs": [
    {
     "name": "stdout",
     "output_type": "stream",
     "text": [
      "(40260, 68)\n",
      "(40260,)\n",
      "[17928 22332]\n"
     ]
    }
   ],
   "source": [
    "# quick look at the support vectors\n",
    "print(svm_clf.support_vectors_.shape)\n",
    "print(svm_clf.support_.shape)\n",
    "print(svm_clf.n_support_ )"
   ]
  },
  {
   "cell_type": "markdown",
   "id": "6d23675c",
   "metadata": {},
   "source": [
    "As we can see in the cell above, the support vectors are the data points that are close to the hyperplane that influence the position and orientation of the hyperplane; these support vectors maximize the margin of the classifier. These were taken from the model with the highest accuracy, found in the code results above."
   ]
  },
  {
   "cell_type": "code",
   "execution_count": 40,
   "id": "f15fa7fb",
   "metadata": {},
   "outputs": [
    {
     "ename": "AttributeError",
     "evalue": "coef_ is only available when using a linear kernel",
     "output_type": "error",
     "traceback": [
      "\u001b[1;31m---------------------------------------------------------------------------\u001b[0m",
      "\u001b[1;31mAttributeError\u001b[0m                            Traceback (most recent call last)",
      "\u001b[1;32m~\\AppData\\Local\\Temp/ipykernel_31592/2777794847.py\u001b[0m in \u001b[0;36m<module>\u001b[1;34m\u001b[0m\n\u001b[0;32m      2\u001b[0m \u001b[1;31m# We left this in just to show that it will not work since we used radial basis function\u001b[0m\u001b[1;33m\u001b[0m\u001b[1;33m\u001b[0m\u001b[1;33m\u001b[0m\u001b[0m\n\u001b[0;32m      3\u001b[0m \u001b[1;31m# as our kernel\u001b[0m\u001b[1;33m\u001b[0m\u001b[1;33m\u001b[0m\u001b[1;33m\u001b[0m\u001b[0m\n\u001b[1;32m----> 4\u001b[1;33m \u001b[0mprint\u001b[0m\u001b[1;33m(\u001b[0m\u001b[0msvm_clf\u001b[0m\u001b[1;33m.\u001b[0m\u001b[0mcoef_\u001b[0m\u001b[1;33m)\u001b[0m\u001b[1;33m\u001b[0m\u001b[1;33m\u001b[0m\u001b[0m\n\u001b[0m\u001b[0;32m      5\u001b[0m \u001b[0mweights\u001b[0m \u001b[1;33m=\u001b[0m \u001b[0mpd\u001b[0m\u001b[1;33m.\u001b[0m\u001b[0mSeries\u001b[0m\u001b[1;33m(\u001b[0m\u001b[0msvm_clf\u001b[0m\u001b[1;33m.\u001b[0m\u001b[0mcoef_\u001b[0m\u001b[1;33m[\u001b[0m\u001b[1;36m0\u001b[0m\u001b[1;33m]\u001b[0m\u001b[1;33m,\u001b[0m\u001b[0mindex\u001b[0m\u001b[1;33m=\u001b[0m\u001b[0mX_imputed\u001b[0m\u001b[1;33m.\u001b[0m\u001b[0mcolumns\u001b[0m\u001b[1;33m)\u001b[0m\u001b[1;33m\u001b[0m\u001b[1;33m\u001b[0m\u001b[0m\n\u001b[0;32m      6\u001b[0m \u001b[0mweights\u001b[0m\u001b[1;33m.\u001b[0m\u001b[0mplot\u001b[0m\u001b[1;33m(\u001b[0m\u001b[0mkind\u001b[0m\u001b[1;33m=\u001b[0m\u001b[1;34m'bar'\u001b[0m\u001b[1;33m)\u001b[0m\u001b[1;33m\u001b[0m\u001b[1;33m\u001b[0m\u001b[0m\n",
      "\u001b[1;32m~\\AppData\\Roaming\\Python\\Python37\\site-packages\\sklearn\\svm\\_base.py\u001b[0m in \u001b[0;36mcoef_\u001b[1;34m(self)\u001b[0m\n\u001b[0;32m    499\u001b[0m     \u001b[1;32mdef\u001b[0m \u001b[0mcoef_\u001b[0m\u001b[1;33m(\u001b[0m\u001b[0mself\u001b[0m\u001b[1;33m)\u001b[0m\u001b[1;33m:\u001b[0m\u001b[1;33m\u001b[0m\u001b[1;33m\u001b[0m\u001b[0m\n\u001b[0;32m    500\u001b[0m         \u001b[1;32mif\u001b[0m \u001b[0mself\u001b[0m\u001b[1;33m.\u001b[0m\u001b[0mkernel\u001b[0m \u001b[1;33m!=\u001b[0m \u001b[1;34m'linear'\u001b[0m\u001b[1;33m:\u001b[0m\u001b[1;33m\u001b[0m\u001b[1;33m\u001b[0m\u001b[0m\n\u001b[1;32m--> 501\u001b[1;33m             raise AttributeError('coef_ is only available when using a '\n\u001b[0m\u001b[0;32m    502\u001b[0m                                  'linear kernel')\n\u001b[0;32m    503\u001b[0m \u001b[1;33m\u001b[0m\u001b[0m\n",
      "\u001b[1;31mAttributeError\u001b[0m: coef_ is only available when using a linear kernel"
     ]
    }
   ],
   "source": [
    "# if using linear kernel, these make sense to look at (not otherwise)\n",
    "# We left this in just to show that it will not work since we used radial basis function\n",
    "# as our kernel\n",
    "print(svm_clf.coef_)\n",
    "weights = pd.Series(svm_clf.coef_[0],index=X_imputed.columns)\n",
    "weights.plot(kind='bar')"
   ]
  },
  {
   "cell_type": "markdown",
   "id": "f501a4ec",
   "metadata": {},
   "source": [
    "The below cell shows the instances that were chosen as the support vectors. It also might indicate if they are indicative of anything, following our intuition. First, we made a dataframe of the training data, then appended the support vectors from the training model, with the original response variable from the original data. "
   ]
  },
  {
   "cell_type": "code",
   "execution_count": 41,
   "id": "e4f5503c",
   "metadata": {},
   "outputs": [
    {
     "name": "stdout",
     "output_type": "stream",
     "text": [
      "<class 'pandas.core.frame.DataFrame'>\n",
      "Int64Index: 40260 entries, 212 to 22241\n",
      "Data columns (total 69 columns):\n",
      " #   Column                 Non-Null Count  Dtype  \n",
      "---  ------                 --------------  -----  \n",
      " 0   Mkt_Cap                40260 non-null  float64\n",
      " 1   Best_EPS_1M            40260 non-null  float64\n",
      " 2   Best_EPS_3M            40260 non-null  float64\n",
      " 3   Best_EPS_6M            40260 non-null  float64\n",
      " 4   Best_EPS_1Y            40260 non-null  float64\n",
      " 5   Best_EPS_3Y            40260 non-null  float64\n",
      " 6   Best_EPS_5Y            40260 non-null  float64\n",
      " 7   Best_EPS_3M_v5Y        40260 non-null  float64\n",
      " 8   Best_EPS_6M_v5Y        40260 non-null  float64\n",
      " 9   Best_EPS_1Y_v5Y        40260 non-null  float64\n",
      " 10  Best_EPS_3Y_v5Y        40260 non-null  float64\n",
      " 11  Best_EPS_3M_Rank       40260 non-null  float64\n",
      " 12  Best_EPS_6M_Rank       40260 non-null  float64\n",
      " 13  Best_EPS_1Y_Rank       40260 non-null  float64\n",
      " 14  ST_Accel               40260 non-null  float64\n",
      " 15  ST_Accel_Class         40260 non-null  int64  \n",
      " 16  NRR_6M                 40260 non-null  float64\n",
      " 17  An_Mark_6M             40260 non-null  float64\n",
      " 18  An_Unch_6M             40260 non-null  float64\n",
      " 19  An_Down_6M             40260 non-null  float64\n",
      " 20  An_Up_6M               40260 non-null  float64\n",
      " 21  NRR_3M                 40260 non-null  float64\n",
      " 22  An_Mark_3M             40260 non-null  float64\n",
      " 23  An_Unch_3M             40260 non-null  float64\n",
      " 24  An_Down_3M             40260 non-null  float64\n",
      " 25  An_Up_3M               40260 non-null  float64\n",
      " 26  NRR                    40260 non-null  float64\n",
      " 27  An_Mark                40260 non-null  float64\n",
      " 28  An_Unch                40260 non-null  float64\n",
      " 29  An_Down                40260 non-null  float64\n",
      " 30  An_Up                  40260 non-null  float64\n",
      " 31  Return_1M              40260 non-null  float64\n",
      " 32  Return_3M              40260 non-null  float64\n",
      " 33  Return_6M              40260 non-null  float64\n",
      " 34  Best_EPS_5Y_R2         40260 non-null  float64\n",
      " 35  Best_EPS_5Y_R2_Rank    40260 non-null  float64\n",
      " 36  Best_EPS_5Y_SD         40260 non-null  float64\n",
      " 37  Best_EPS_5Y_Stability  40260 non-null  float64\n",
      " 38  Best_EPS_5Y_R2_p       40260 non-null  float64\n",
      " 39  Best_EPS_3Y_R2         40260 non-null  float64\n",
      " 40  Best_EPS_3Y_R2_p       40260 non-null  float64\n",
      " 41  Best_EPS_1Y_R2         40260 non-null  float64\n",
      " 42  Best_EPS_1Y_R2_p       40260 non-null  float64\n",
      " 43  Best_EPS_Sigma         40260 non-null  float64\n",
      " 44  Best_EPS_Mean_Med      40260 non-null  float64\n",
      " 45  Best_EPS_Hi_Lo         40260 non-null  float64\n",
      " 46  Best_EPS_Up_10_6M      40260 non-null  int64  \n",
      " 47  Best_EPS_Up_10_3M      40260 non-null  int64  \n",
      " 48  Best_EPS_Up_10_1M      40260 non-null  int64  \n",
      " 49  Best_EPS_5Y_CV         40260 non-null  float64\n",
      " 50  Best_EPS_Dn_10_6M      40260 non-null  int64  \n",
      " 51  Best_EPS_Dn_10_3M      40260 non-null  int64  \n",
      " 52  Best_EPS_Dn_10_1M      40260 non-null  int64  \n",
      " 53  Best_EPS_Sigma_3M      40260 non-null  float64\n",
      " 54  Best_EPS_Sigma_6M      40260 non-null  float64\n",
      " 55  Best_EPS_Sigma_1Y      40260 non-null  float64\n",
      " 56  ROIC                   40260 non-null  float64\n",
      " 57  ROIC_1Y_Chg            40260 non-null  float64\n",
      " 58  ROIC_SD                40260 non-null  float64\n",
      " 59  ROE                    40260 non-null  float64\n",
      " 60  ROE_1Y_Chg             40260 non-null  float64\n",
      " 61  ROE_SD                 40260 non-null  float64\n",
      " 62  FCF_Mgn                40260 non-null  float64\n",
      " 63  FCF_Mgn_1Y_Chg         40260 non-null  float64\n",
      " 64  FCF_Mgn_SD             40260 non-null  float64\n",
      " 65  Op_Mgn                 40260 non-null  float64\n",
      " 66  Op_Mgn_1Y_Chg          40260 non-null  float64\n",
      " 67  Op_Mgn_SD              40260 non-null  float64\n",
      " 68  Fwd_Return_3M_Class    40260 non-null  int64  \n",
      "dtypes: float64(61), int64(8)\n",
      "memory usage: 21.5 MB\n"
     ]
    }
   ],
   "source": [
    "df_tested_on = X_imputed.iloc[train_indices].copy()\n",
    "df_support = df_tested_on.iloc[svm_clf.support_,:].copy()\n",
    "\n",
    "df_support['Fwd_Return_3M_Class'] = y_svm[svm_clf.support_]\n",
    "X_imputed['Fwd_Return_3M_Class'] = y_svm\n",
    "\n",
    "df_support.info()"
   ]
  },
  {
   "cell_type": "code",
   "execution_count": 42,
   "id": "5af7e72c",
   "metadata": {},
   "outputs": [
    {
     "name": "stdout",
     "output_type": "stream",
     "text": [
      "Here are the class weights of the linear SVM: [1.12364645 0.90086815]\n",
      "\n",
      "\n",
      "Here are the classes of the linear SVM: [0 1]\n",
      "\n",
      "\n",
      "Here are the constants in the decision function of the linear SVM: [-0.06585147]\n",
      "\n",
      "\n",
      "Here are the number of feature seen during the fit of of the linear SVM: 68\n",
      "\n",
      "\n",
      "Here are the indices of support vectors of the linear SVM: [    2     8    10 ... 42118 42121 42122]\n",
      "\n",
      "\n",
      "Here are the number of support vectors for each class of the linear SVM: [17928 22332]\n",
      "\n",
      "\n",
      "Here is the array of dimensions of training vector X of the linear SVM: (42130, 68)\n"
     ]
    }
   ],
   "source": [
    "print(\"Here are the class weights of the linear SVM: {}\".format(svm_clf.class_weight_))\n",
    "print('\\n')\n",
    "print(\"Here are the classes of the linear SVM: {}\".format(svm_clf.classes_))\n",
    "print('\\n')\n",
    "print(\"Here are the constants in the decision function of the linear SVM: {}\".format(svm_clf.intercept_))\n",
    "print('\\n')\n",
    "print(\"Here are the number of feature seen during the fit of of the linear SVM: {}\".format(svm_clf.n_features_in_))\n",
    "print('\\n')\n",
    "print(\"Here are the indices of support vectors of the linear SVM: {}\".format(svm_clf.support_))\n",
    "print('\\n')\n",
    "print(\"Here are the number of support vectors for each class of the linear SVM: {}\".format(svm_clf.n_support_))\n",
    "print('\\n')\n",
    "print(\"Here is the array of dimensions of training vector X of the linear SVM: {}\".format(svm_clf.shape_fit_))"
   ]
  },
  {
   "cell_type": "code",
   "execution_count": 43,
   "id": "f8d10961",
   "metadata": {
    "scrolled": true
   },
   "outputs": [
    {
     "data": {
      "image/png": "[encoded data removed]",
      "text/plain": [
       "<Figure size 720x288 with 2 Axes>"
      ]
     },
     "metadata": {
      "needs_background": "light"
     },
     "output_type": "display_data"
    },
    {
     "data": {
      "image/png": "[encoded data removed]",
      "text/plain": [
       "<Figure size 720x288 with 2 Axes>"
      ]
     },
     "metadata": {
      "needs_background": "light"
     },
     "output_type": "display_data"
    },
    {
     "data": {
      "image/png": "[encoded data removed]",
      "text/plain": [
       "<Figure size 720x288 with 2 Axes>"
      ]
     },
     "metadata": {
      "needs_background": "light"
     },
     "output_type": "display_data"
    },
    {
     "data": {
      "image/png": "[encoded data removed]",
      "text/plain": [
       "<Figure size 720x288 with 2 Axes>"
      ]
     },
     "metadata": {
      "needs_background": "light"
     },
     "output_type": "display_data"
    },
    {
     "data": {
      "image/png": "[encoded data removed]",
      "text/plain": [
       "<Figure size 720x288 with 2 Axes>"
      ]
     },
     "metadata": {
      "needs_background": "light"
     },
     "output_type": "display_data"
    }
   ],
   "source": [
    "# now lets see the statistics of these attributes\n",
    "from matplotlib import pyplot as plt\n",
    "from pandas.plotting import boxplot\n",
    "\n",
    "# group the original data and the support vectors\n",
    "df_grouped_support = df_support.groupby(['Fwd_Return_3M_Class'])\n",
    "df_grouped = X_imputed.groupby(['Fwd_Return_3M_Class'])\n",
    "\n",
    "# plot KDE of Different variables\n",
    "vars_to_plot = ['FCF_Mgn', 'Mkt_Cap', 'Best_EPS_6M', 'Best_EPS_5Y', \n",
    "               'Return_6M']\n",
    "\n",
    "for v in vars_to_plot:\n",
    "    plt.figure(figsize=(10,4))\n",
    "    # plot support vector stats\n",
    "    plt.subplot(1,2,1)\n",
    "    ax = df_grouped_support[v].plot.kde() \n",
    "    plt.legend(['Lose','Win'])\n",
    "    plt.title(v+' (Instances chosen as Support Vectors)')\n",
    "    \n",
    "    # plot original distributions\n",
    "    plt.subplot(1,2,2)\n",
    "    ax = df_grouped[v].plot.kde() \n",
    "    plt.legend(['Lose','Win'])\n",
    "    plt.title(v+' (Original)')\n"
   ]
  },
  {
   "cell_type": "markdown",
   "id": "0b215ec4",
   "metadata": {},
   "source": [
    "Using the graphs found above, and a few choice features, we can see how the support vectors compare to the original statistics of the data. There is not as much separation between the original distributions and the support vector distributions, which is initially odd. These graphs also show the relationships between the two and how they changed. It seems the support vecotrs tend to follow the original fairly closely, however, if the scale were to decrease between -5 and 5, we might see a very clear separation between the support vectors distribution and the original data distribution. The support vectors found on the edge of the original distributions are the instances on the edge of the class boundaries and that are incorrectly classified in the training data."
   ]
  },
  {
   "cell_type": "markdown",
   "id": "f2cb5377",
   "metadata": {},
   "source": [
    "# COMPARING MODELS"
   ]
  },
  {
   "cell_type": "markdown",
   "id": "71b6e575",
   "metadata": {},
   "source": [
    "Detailed below are the finalized results for our logistic regression (LR) and support vector (SVM) models based on pertinent stats:\n",
    "\n",
    "Accuracy:  LR = 54.8% vs SVM = 59.8%\n",
    "\n",
    "F1 Score:  LR = 58.0% vs SVM = 62.3%\n",
    "\n",
    "AUC:  LR = 54.6% vs SVM = 59.9%\n",
    "\n",
    "Training time:  LR = 0.25 seconds vs SVM = 229.2 seconds\n",
    "\n",
    "Upon comparing the outputs of our models, we support the choice of the SVM as our recommended model from this analysis.  As you can see above, the performance (Accuracy, F1 score (which captures precision and recall) and Area Under the Curve (AUC)) are superior for the SVM relative to the LR model.  With this better performance comes the cost of training time / efficiency as the SVM took much longer to run / compute.  We deem this additional time (which only resulted in differential in the minutes) to be worth the cost, thus stand by our recommendation for the SVM.\n",
    "\n",
    "In the highly competitive industry of investment management, the ability to outperform the market is extremely difficult.  The target use case for our project analyses (including this lab) is an investment manager that is picking stocks that will outperform and avoiding those that will underperform (i.e. long-only styled strategies).  Thus on the one hand, one could see the results of this analysis in a positive light given we had accuracies nearly 60% which in the investment management industry is relatively favorable.  On the other hand, we remain optimistic that we can improve upon such results and are looking forward to digging deeper into different classification techniques / algorithms in hopes that we can further improve the outputs and prediction capabilities with our dataset during forthcoming modelling analyses."
   ]
  },
  {
   "cell_type": "code",
   "execution_count": null,
   "id": "b52782b5",
   "metadata": {},
   "outputs": [],
   "source": []
  }
 ],
 "metadata": {
  "kernelspec": {
   "display_name": "Python 3 (ipykernel)",
   "language": "python",
   "name": "python3"
  },
  "language_info": {
   "codemirror_mode": {
    "name": "ipython",
    "version": 3
   },
   "file_extension": ".py",
   "mimetype": "text/x-python",
   "name": "python",
   "nbconvert_exporter": "python",
   "pygments_lexer": "ipython3",
   "version": "3.7.11"
  }
 },
 "nbformat": 4,
 "nbformat_minor": 5
}
