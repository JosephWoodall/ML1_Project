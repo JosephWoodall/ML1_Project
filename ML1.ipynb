{
 "cells": [
  {
   "cell_type": "markdown",
   "id": "38e224bf",
   "metadata": {},
   "source": [
    "# OVERVIEW\n",
    "\n",
    "#### When speaking of the stock market, there are adages that may sound pithy but in practice often prove to be powerful and true. One of  most well known is “Don’t fight the Fed”, which argues that investors should respect the trend coming from the Federal Reserve decision making regarding monetary policy. Another that is less well known (if at all) is in regards to the power of a stock’s EPS trend, which is “Earnings trump and trend”.  This is an observation that often the best longer term stock investments are those where the investor is on the right side of the earnings trend. Both of these phrases speak to the power of trends in the stock market, of which the focus of this analysis will be on the latter of these two phrases, “Earnings trump and trend” and for which we hope the reader will come to a foundational place of understanding and conviction that such statement may in fact hold statistical power in its truthfulness, which we will embark to analyze and attempt to model with efficacy.\n",
    "\n",
    "#### A few examples as detail / proof points of what we are talking about with this statement are as follows from companies most have heard of:\n",
    "#### •\tGoogle – During the past 5 years, GOOGL is up 279% with over 80% of this return coming from earnings per share (EPS) growth.\n",
    "#### •\tDomino’s Pizza – During the past 5 years, DPZ is up 228% with over 90% of this return coming from earnings per share (EPS) growth.  \n",
    "#### •\tHome Depot – During the past 5 years, HD is up 219% with approximately 70% of this return coming from earnings per share (EPS) growth.\n",
    "\n",
    "#### Therefore, while getting the valuation “right” for a given stock is important, we would argue that getting the earnings “right” is even more important hence the “trump” notion. And accompanying this is the power of trends which Newton’s first law of motion would support the general power of trends which says, “an object in motion stays in motion with the same speed and in the same direction unless acted upon by an unbalanced force”.  We believe that such “momentum” is prevalent in the stock market and manifests itself in various ways, one of which is the operating performance / earnings trajectory of a given company.  This can be seen in earnings trends that ebb and flow over time as aspects such as industry dynamics, product cycles, etc. strengthen and weaken over various time periods.  \n",
    "\n",
    "#### These foundational and experiential beliefs serve as the basis of the forthcoming analysis whereby we seek to use machine learning and related tools in order to analyze and model the earnings estimates of a basket of stocks, for which we will call this exercise EPS estimate revision momentum modelling. "
   ]
  },
  {
   "cell_type": "markdown",
   "id": "020ac51c",
   "metadata": {},
   "source": [
    "# BUSINESS UNDERSTANDING\n",
    "\n",
    "#### The goal of this analysis is not only to use powerful algorithms to predict EPS but also better understand various drivers behind such predictions.  The chosen variables / data set had this goal in mind when being gathered and organized.  The use case for the analysis is multifaceted for both professional and individual investors.  For the professional, this analysis could serve to aid in the following:  predicting EPS which in turn could be used in combination with a target multiple and/or DCF in order to establish an estimated target price, predicting EPS and comparing growth potential across a universe of stocks, comparing the models outcomes with human driven modelling / analytical efforts, providing investment ideas based on the model’s output and providing insight into the various power of individual and groupings of metrics which can serve to guide the focus of an analyst’s research efforts to gain insight and dig deeper on additional metrics.  The use case could also be for individual investors as a means to generate investment buy and sell ideas based on the predictions made by the model.\n",
    "\n",
    "#### Goals – what outcomes (NEED HELP HERE)\n",
    "#### Accuracy in EPS predictions, determine if / which EPS variables have predictive price power, segmentation of data set besides by sector, drivers behind EPS predictions, \n",
    "#### Measure a good outcome???\n",
    "\n"
   ]
  },
  {
   "cell_type": "markdown",
   "id": "15bd321e",
   "metadata": {},
   "source": [
    "# DATA UNDERSTANDING\n",
    "\n",
    "#### To begin, let’s provide some background information on some “what’s” and “why’s” of our analysis.\n",
    "\n",
    "#### What are some of the reasons for using consensus earnings estimate data instead of historical or other measures?\n",
    "#### As discussed above, the premise of our analysis is to model the consensus EPS estimates.  We chose to model the consensus EPS estimates for several reasons:\n",
    "#### •\tWhile historical EPS is typically only reported on a quarterly basis, consensus EPS estimates are updated on a much more frequent basis thus gleaning insight from such daily movement as information enters the market is deemed valuable.\n",
    "#### •\tCrowd source for insight…..don’t reinvent the wheel.  We are primarily approaching our analysis by studying those that know the subject (i.e. EPS trajectory) best and then seek to glean insight and improve upon it with powerful statistical calculations.  While we do have a few variables that are unrelated to consensus EPS estimates, the majority seek to capture changes in such metrics. We believe that embedded in their estimates is information from two parties which arguably know each company best and are trying to use statistics to validate such belief. One is the sell side analysts that cover a given stock and thus their livelihood depends on such skill and the other is company management which serves as the foundation of financial information being fed to such analysts and they too have their livelihood tied up in their respective company. Hence, we are not trying to outsmart them with other information but rather glean insight from them and use statistical tools to capture their collective wisdom in a manner which is statistical efficacious.\n",
    "\n",
    "#### What basket of stocks did we choose and why?\n",
    "#### We narrowed down the universe of stocks for this analysis to 400 stocks.  We narrowed down the universe using Bloomberg and Factset based on the following parameters: \n",
    "#### •\tUS domiciled and traded companies\n",
    "#### •\tThe real estate sector was excluded due to the fact such stocks do not “trade” based on EPS (but rather funds from operations or FFO)\n",
    "#### •\tMarket cap greater than 1.5 billion.\n",
    "#### •\tWe set a floor on the number of analysts covering each stock as greater than 4 so that there is sufficient estimate data available for comparability purposes.\n",
    "#### •\tAt least 10 years of trading history, so that we can compute the desired metrics and compare accordingly.\n",
    "#### •\tFive year EPS growth must be above zero and the R-squared (historical EPS vs time) must be above 0.1, which further narrows down the universe to companies that are deemed higher quality and have had more stability with their historical EPS profile which we expect to aid in our ability to analyze and model such consensus EPS.  To further clarify, on the other side of the coin are companies with extremely volatile EPS profiles and at times are in the negative range which understandably would be much more difficult and less insightful to model.\n",
    "\n",
    "#### What was done to enable comparability across the basket of stocks given they are all unique businesses and grow at different rates?\n",
    "#### •\tWe normalized some of the variables in a way that ensured comparability (more details on this below).  Thus while some companies have grown faster than others we included both the absolute growth levels as well as relative / proportional levels.  Additionally, the analyst estimate figures are comparable across the universe thus needed no adjustments.\n",
    "\n",
    "#### What was done to ensure data quality?\n",
    "#### •\tFactSet was used to gather all of the data.  As SMU students, we are provided free licenses during our time in the program via the business library.  We attempted to get the data via FactSet's API but our student license did not provide such access so we used the FactSet excel add-in.  Given the reputation of FactSet in the marketplace we have high confidence in the accuracy of the data gathered. "
   ]
  },
  {
   "cell_type": "markdown",
   "id": "261ae7a9",
   "metadata": {},
   "source": [
    "#### What explanatory variables did we include and why?\n",
    "\n",
    "### We gathered weekly data during the past five years (12/30/16 - 12/30/21) and established five categories by which an explanatory variable is included in:  GROWTH, STABILITY, ANALYST REVISIONS, INCOME STATEMENT and OTHER.  Details on each category and the variables include are as follows:\n",
    "\n",
    "#### GROWTH\n",
    "\n",
    "#### Consensus (i.e. sell side analysts) EPS median estimates trends:\n",
    "\n",
    "#### Annualized growth rate for each of the following time periods on a daily basis for the past 5 year period (1 month, 2 month, 3 month, 6 month, 1 year, 3 year and 5 year)\n",
    "#### •\tLabeled as “Best_EPS_##” in the data set.\n",
    "\n",
    "#### Percent relative to their respective 5 year growth rate for all the aforementioned time periods except the 5 year.\n",
    "#### •\tLabeled as “Best_EPS_##_vs_5Y”.\n",
    "\n",
    "#### 3M, 6M and 1Y growth rate ranks within our universe.\n",
    "#### •\tLabeled as “Best_EPS_##_Rank”.\n",
    "\n",
    "#### A continuous and classification variable seeking to capture short-term EPS acceleration.  For the continuous variable we used the aforementioned EPS growth ranks (3M, 6M and 1Y), then averaged the three to get a continuous variable rank.  For the classification variable we segmented into those meeting (or not) the following criteria: EPS growth of 3M > 6M AND 6M > 1Y.\n",
    "#### •\tLabeled as \"ST_Accel\" and \"ST_Accel_Class\".\n",
    "\n",
    "#### STABILITY\n",
    "\n",
    "#### R-squared of the weekly 5 year EPS figures.  Both the value and the rank of this measure.\n",
    "#### •\tLabeled as “Best_EPS_5Y_R2\" and “Best_EPS_5Y_R2_Rank\".\n",
    "\n",
    "#### Standard deviation of the weekly 5 year EPS figures.  \n",
    "#### •\tLabeled as “Best_EPS_5Y_SD\".\n",
    "\n",
    "#### FactSet derived measure of EPS stability defined as: measuring the consistency for an estimate item over the past 5 years.\n",
    "#### •\tLabeled as “Best_EPS_5Y_Stability\".\n",
    "\n",
    "#### ANALYST REVISIONS\n",
    "\n",
    "\n",
    "#### Sell side analyst EPS revisions (Upward, Downward and Unchanged).  A “revision” is a change (regardless of magnitude) in an analyst’s estimate during the past 3 months for a company’s EPS for the next 12 month period.\n",
    "\tWe also computed the change in each of these variables on a 3- and 6-month basis and labeled them similarly to the previous metrics but added “_#M” on the end.  This captures second derivative changes in the revisions metrics.\n",
    "o\tAnalyst revision ratios\t\n",
    "\tWe pulled a predetermined metric labeled “Mark_Rev” from FactSet which seeks to quantify the relative trend in the analyst revisions with the lower being better.\n",
    "\tWe also created our own metric labeled as “Net_Est_Rev_Ratio” which equates to the following:  (Upward Revisions – Downward Revisions) / Total Revisions.  This ratio ranges from -100 to 100 and seeks to capture the change in such revision on a proportion basis during the past 3 month period.\n",
    "\tBoth of these metrics were also used to create variables which capture the change in the Net_Est_Rev_Ratio and Mark_Rev on a 1- and 3-month basis, which similarly as above capture second derivative changes.\n",
    "o\tRelative price momentum\n",
    "\tTechnical analysis presumes that price leads fundamentals as the collective market begins to price in changes in fundamentals prior to such changes becoming quantifiable.  As such, in hopes to capture some of the collective market’s wisdom based on the similar rationale above regarding analyst and management information capture, we decided to include a variable labeled “Rel_PMO” which is technical analysis in nature and defined as:  Percentage change over the last 6 months in the one month moving average of the share price relative to a benchmark index.  This measure captures price momentum / technical analysis and compares such strength relative to the universe of stock.\n",
    "o\tVolatility\n",
    "\tWe also included a few variables which capture the stability in both consensus and historical EPS over time:\n",
    "•\t“Est_EPS_R2_##” measures the R-square of the mean consensus EPS relative to time during the past 1- and 5-year period.\n",
    "•\t“Est_EPS_SD_##” similarly calculates volatility but using standard deviation instead of R-square also on a 1- and 5-year basis.\n",
    "•\t“Hist_EPS_R2_5Y” calculates the aforementioned R-square on a 5-year basis using the historical / actual EPS instead of consensus estimates. \n",
    "\tThe premise for including these volatility metrics was that the more stable the EPS has been the more confidence one can have in the trajectory and thus modelling ability and efficacy.\n",
    "•\tWhat is the dependent variable / classification statement?\n",
    "o\tQuestion of interest = “Will a company’s mean forward 12 month EPS estimate trend be above the 5Y average AND above the previous 3 month period during the next 3 month period or not, on an annualized basis?”\n",
    "\tDependent variable is labeled “Rel_Tr_AD_3M”\n",
    "\tThis seeks to capture the trend in consensus EPS for a given company around it’s longer term trend (i.e. 5Y) as well as the recent acceleration or deceleration of EPS. As mentioned from the start, we are operating on the premise that “Earnings trump and trend”, thus not only will the trend in EPS affect the movement in the stock price but also EPS trends are lasting and more consistent than not. Both of which seek to identify trends in EPS and help one to get / stay on the right side of such trends in a objective and statistically efficacious manner.\n",
    "\tWe chose the 3 month period because it is short enough to capture the aforementioned trends in a timely manner all the while long enough to remove some of the noise found on a daily ,weekly and even monthly basis.  If deemed effective (which we did not know the answer to prior to our analysis), we would recommend further analysis be done on longer time periods as the longer the time period the more investable / applicable such model(s) can be in real world applications.\n"
   ]
  },
  {
   "cell_type": "code",
   "execution_count": null,
   "id": "4dd6ff54",
   "metadata": {},
   "outputs": [],
   "source": []
  }
 ],
 "metadata": {
  "kernelspec": {
   "display_name": "Python 3 (ipykernel)",
   "language": "python",
   "name": "python3"
  },
  "language_info": {
   "codemirror_mode": {
    "name": "ipython",
    "version": 3
   },
   "file_extension": ".py",
   "mimetype": "text/x-python",
   "name": "python",
   "nbconvert_exporter": "python",
   "pygments_lexer": "ipython3",
   "version": "3.9.7"
  }
 },
 "nbformat": 4,
 "nbformat_minor": 5
}
