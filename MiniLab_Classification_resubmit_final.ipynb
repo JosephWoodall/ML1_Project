{
 "cells": [
  {
   "cell_type": "markdown",
   "id": "c0d4d416",
   "metadata": {},
   "source": [
    "# SUMMARY OF CHANGES FOR RESUBMISSION\n",
    "\n",
    "- We tuned the parameters for the logistic regression model.\n",
    "- Such tuning changed the final logistic regression model we recommended as well as some of the top features which we adjusted the verbiage accordingly.\n",
    "- We corrected the section headings / notebook organization.\n",
    "- We tuned the parameters for the support vector model.\n",
    "- We used %%time instead of previous timing code.\n",
    "- We added verbiage regarding SVM interpretation.\n",
    "\n",
    "The changes are labeled as \"UPDATED SECTION - \" below."
   ]
  },
  {
   "cell_type": "markdown",
   "id": "d3b34e76",
   "metadata": {},
   "source": [
    "# INTRODUCTION"
   ]
  },
  {
   "cell_type": "code",
   "execution_count": 1,
   "id": "1c7af981",
   "metadata": {},
   "outputs": [],
   "source": [
    "# Read in data and packages\n",
    "import pandas as pd\n",
    "import numpy as np\n",
    "#import bamboolib as bam\n",
    "from sklearn.metrics import accuracy_score, confusion_matrix, recall_score, roc_auc_score, precision_score, f1_score\n",
    "\n",
    "df = pd.read_csv('ML1_data_adj_v2.csv')"
   ]
  },
  {
   "cell_type": "markdown",
   "id": "d3817b4a",
   "metadata": {},
   "source": [
    "The response variable for this classification analysis will be Fwd_Return_3M_Class, which represents the forward / future 3 month return of a given stock in our dataset relative to the 3 month return of the equal weighted S&P 500 index.  This captures whether a stock is deemed to have out- or under-performed during this time period."
   ]
  },
  {
   "cell_type": "code",
   "execution_count": 2,
   "id": "a73c2ae9",
   "metadata": {},
   "outputs": [
    {
     "name": "stdout",
     "output_type": "stream",
     "text": [
      "<class 'pandas.core.frame.DataFrame'>\n",
      "RangeIndex: 52663 entries, 0 to 52662\n",
      "Data columns (total 68 columns):\n",
      " #   Column                 Non-Null Count  Dtype  \n",
      "---  ------                 --------------  -----  \n",
      " 0   Mkt_Cap                52663 non-null  float64\n",
      " 1   Best_EPS_1M            52663 non-null  float64\n",
      " 2   Best_EPS_3M            52663 non-null  float64\n",
      " 3   Best_EPS_6M            52663 non-null  float64\n",
      " 4   Best_EPS_1Y            52663 non-null  float64\n",
      " 5   Best_EPS_3Y            52663 non-null  float64\n",
      " 6   Best_EPS_5Y            52663 non-null  float64\n",
      " 7   Best_EPS_3M_v5Y        52663 non-null  float64\n",
      " 8   Best_EPS_6M_v5Y        52663 non-null  float64\n",
      " 9   Best_EPS_1Y_v5Y        52663 non-null  float64\n",
      " 10  Best_EPS_3Y_v5Y        52663 non-null  float64\n",
      " 11  Best_EPS_3M_Rank       52663 non-null  float64\n",
      " 12  Best_EPS_6M_Rank       52663 non-null  float64\n",
      " 13  Best_EPS_1Y_Rank       52663 non-null  float64\n",
      " 14  ST_Accel               52663 non-null  float64\n",
      " 15  ST_Accel_Class         52663 non-null  int64  \n",
      " 16  NRR_6M                 52663 non-null  float64\n",
      " 17  An_Mark_6M             52663 non-null  float64\n",
      " 18  An_Unch_6M             52663 non-null  float64\n",
      " 19  An_Down_6M             52663 non-null  float64\n",
      " 20  An_Up_6M               52663 non-null  float64\n",
      " 21  NRR_3M                 52663 non-null  float64\n",
      " 22  An_Mark_3M             52663 non-null  float64\n",
      " 23  An_Unch_3M             52663 non-null  float64\n",
      " 24  An_Down_3M             52663 non-null  float64\n",
      " 25  An_Up_3M               52663 non-null  float64\n",
      " 26  NRR                    52663 non-null  float64\n",
      " 27  An_Mark                52663 non-null  float64\n",
      " 28  An_Unch                52663 non-null  float64\n",
      " 29  An_Down                52663 non-null  float64\n",
      " 30  An_Up                  52663 non-null  float64\n",
      " 31  Return_1M              52663 non-null  float64\n",
      " 32  Return_3M              52663 non-null  float64\n",
      " 33  Return_6M              52663 non-null  float64\n",
      " 34  Best_EPS_5Y_R2         52663 non-null  float64\n",
      " 35  Best_EPS_5Y_R2_Rank    52663 non-null  float64\n",
      " 36  Best_EPS_5Y_SD         52663 non-null  float64\n",
      " 37  Best_EPS_5Y_Stability  52663 non-null  float64\n",
      " 38  Best_EPS_5Y_R2_p       52663 non-null  float64\n",
      " 39  Best_EPS_3Y_R2         52663 non-null  float64\n",
      " 40  Best_EPS_3Y_R2_p       52663 non-null  float64\n",
      " 41  Best_EPS_1Y_R2         52663 non-null  float64\n",
      " 42  Best_EPS_1Y_R2_p       52663 non-null  float64\n",
      " 43  Best_EPS_Sigma         52663 non-null  float64\n",
      " 44  Best_EPS_Mean_Med      52663 non-null  float64\n",
      " 45  Best_EPS_Hi_Lo         52663 non-null  float64\n",
      " 46  Best_EPS_Up_10_6M      52663 non-null  int64  \n",
      " 47  Best_EPS_Up_10_3M      52663 non-null  int64  \n",
      " 48  Best_EPS_Up_10_1M      52663 non-null  int64  \n",
      " 49  Best_EPS_5Y_CV         52663 non-null  float64\n",
      " 50  Best_EPS_Dn_10_6M      52663 non-null  int64  \n",
      " 51  Best_EPS_Dn_10_3M      52663 non-null  int64  \n",
      " 52  Best_EPS_Dn_10_1M      52663 non-null  int64  \n",
      " 53  Best_EPS_Sigma_3M      52663 non-null  float64\n",
      " 54  Best_EPS_Sigma_6M      52663 non-null  float64\n",
      " 55  Best_EPS_Sigma_1Y      52663 non-null  float64\n",
      " 56  ROIC                   52663 non-null  float64\n",
      " 57  ROIC_1Y_Chg            52663 non-null  float64\n",
      " 58  ROIC_SD                52663 non-null  float64\n",
      " 59  ROE                    52663 non-null  float64\n",
      " 60  ROE_1Y_Chg             52663 non-null  float64\n",
      " 61  ROE_SD                 52663 non-null  float64\n",
      " 62  FCF_Mgn                52663 non-null  float64\n",
      " 63  FCF_Mgn_1Y_Chg         52663 non-null  float64\n",
      " 64  FCF_Mgn_SD             52663 non-null  float64\n",
      " 65  Op_Mgn                 52663 non-null  float64\n",
      " 66  Op_Mgn_1Y_Chg          52663 non-null  float64\n",
      " 67  Op_Mgn_SD              52663 non-null  float64\n",
      "dtypes: float64(61), int64(7)\n",
      "memory usage: 27.3 MB\n"
     ]
    }
   ],
   "source": [
    "# X variables = explanatory variables\n",
    "X = df.drop(columns=['Date', 'ticker', 'Year', 'Fwd_ST_Accel_Class_3M', 'Fwd_Return_3M_Class', 'Fwd_Return_6M_Class', 'Fwd_Best_EPS_6M', 'Fwd_ST_Accel_3M','Sector','Fwd_Best_EPS_6M_v5Y', 'Fwd_Return_6M', 'Fwd_Return_3M', 'Fwd_Return_1M'])\n",
    "X.info()"
   ]
  },
  {
   "cell_type": "code",
   "execution_count": 3,
   "id": "d94a6a72",
   "metadata": {},
   "outputs": [
    {
     "name": "stdout",
     "output_type": "stream",
     "text": [
      "<class 'pandas.core.frame.DataFrame'>\n",
      "RangeIndex: 52663 entries, 0 to 52662\n",
      "Data columns (total 1 columns):\n",
      " #   Column               Non-Null Count  Dtype\n",
      "---  ------               --------------  -----\n",
      " 0   Fwd_Return_3M_Class  52663 non-null  int64\n",
      "dtypes: int64(1)\n",
      "memory usage: 411.6 KB\n"
     ]
    }
   ],
   "source": [
    "# y = response variable\n",
    "y = df[['Fwd_Return_3M_Class']]\n",
    "y.info()"
   ]
  },
  {
   "cell_type": "code",
   "execution_count": 4,
   "id": "0525f81b",
   "metadata": {},
   "outputs": [],
   "source": [
    "# We will use this object later on.\n",
    "X_imputed = X"
   ]
  },
  {
   "cell_type": "code",
   "execution_count": 5,
   "id": "23df072a",
   "metadata": {},
   "outputs": [
    {
     "data": {
      "text/html": [
       "<div>\n",
       "<style scoped>\n",
       "    .dataframe tbody tr th:only-of-type {\n",
       "        vertical-align: middle;\n",
       "    }\n",
       "\n",
       "    .dataframe tbody tr th {\n",
       "        vertical-align: top;\n",
       "    }\n",
       "\n",
       "    .dataframe thead th {\n",
       "        text-align: right;\n",
       "    }\n",
       "</style>\n",
       "<table border=\"1\" class=\"dataframe\">\n",
       "  <thead>\n",
       "    <tr style=\"text-align: right;\">\n",
       "      <th></th>\n",
       "      <th>Fwd_Return_3M_Class</th>\n",
       "      <th>counts</th>\n",
       "    </tr>\n",
       "  </thead>\n",
       "  <tbody>\n",
       "    <tr>\n",
       "      <th>0</th>\n",
       "      <td>0</td>\n",
       "      <td>23362</td>\n",
       "    </tr>\n",
       "    <tr>\n",
       "      <th>1</th>\n",
       "      <td>1</td>\n",
       "      <td>29301</td>\n",
       "    </tr>\n",
       "  </tbody>\n",
       "</table>\n",
       "</div>"
      ],
      "text/plain": [
       "   Fwd_Return_3M_Class  counts\n",
       "0                    0   23362\n",
       "1                    1   29301"
      ]
     },
     "execution_count": 5,
     "metadata": {},
     "output_type": "execute_result"
    }
   ],
   "source": [
    "# Assess balance of data set\n",
    "y.groupby(['Fwd_Return_3M_Class']).size().reset_index(name='counts')"
   ]
  },
  {
   "cell_type": "markdown",
   "id": "1a9d2209",
   "metadata": {},
   "source": [
    "# CREATE MODELS"
   ]
  },
  {
   "cell_type": "markdown",
   "id": "5c9b1cd2",
   "metadata": {},
   "source": [
    "## LOGISTIC REGRESSION MODELLING"
   ]
  },
  {
   "cell_type": "markdown",
   "id": "ef751ba8",
   "metadata": {},
   "source": [
    "As part of our logistic regression model building efforts, we built several models and sought to adjust parameters with the end goal in mind of improving accuracy, F1 score and AUC.  We built a model that included all of the variables and adjusted parameters to improve accuracy, then assessed the power of each of the variables (as detailed in forthcoming sections below).  With this information we then built two models based on feature importance weight thresholds of 0.1 and 0.3.  Then we built a dimension reduction model using PCA."
   ]
  },
  {
   "cell_type": "markdown",
   "id": "5efebcd4",
   "metadata": {},
   "source": [
    "## UPDATED SECTION - MODEL 1\n",
    "\n",
    "This model includes all explanatory variables\n",
    "\n",
    "Model hyperparameter tuning summary:\n",
    "\n",
    "• penalty - The norm of the penalty that we chose was \"l1\" as we found this selection in combination with the \"liblinear\" improved our accuracy, F1 and AUC scores by approximately 2%.\n",
    "\n",
    "• dual - We kept dual=False through all iterations given n_samples > n_features.\n",
    "\n",
    "• tol - We adjusted this parameter from the default of \"0.001\" down to \"0.00001\" as this added the run time by approximately 2 seconds and incrementally added to our performance measures by \"0.001\" thus we thought such adjustment was worth the cost / extra time.\n",
    "\n",
    "• C - This parameter represents the inverse of regularization strength. We started with the default of 1 and adjusted the parameter both up and down.  We found that going up notably added to the running time of the model but did nothing to improve performance.  Lowering to 0.01 increased speed but did nothing to performance, while the value of 0.05 also aided speed and improved performance by ~1% so we went with this value.\n",
    "\n",
    "• fit_intercept - This parameter specifies if a constant should be added to the decision function.  A value of True had the best performance so we went with this.\n",
    "\n",
    "• intercept_scaling - This parameter is useful only when the solver ‘liblinear’ is used and self.fit_intercept is set to True. In this case, x becomes  a “synthetic” feature with constant value equal to intercept_scaling is appended to the instance vector.  Given we used 'liblinear' and intercept at True, we attempted to tune this parameter but upon trying higher and lower values than the default of 1, we found such default to result in best performance.\n",
    "\n",
    "• class_weight - Upon running initial models we found that the prediction classes was imbalanced.  As such, we chose the \"balanced\" option for this parameter which evened out the output accordingly.\n",
    "\n",
    "• random_state  This parameter is used when solver == ‘sag’, ‘saga’ or ‘liblinear’ to shuffle the data.  Given we used 'liblinear' we utilized this parameter.\n",
    "\n",
    "• solver - As previously discussed with the penalty parameter, we found 'liblinear' to aid performance the most.\n",
    "\n",
    "• max_iter - Adjusting the parameter did nothing to alter performance thus we left it at the default of 100.\n",
    "\n",
    "• multi_class - Given we used the 'liblinear' solver, this parameter was set to 'auto' which in turn selects 'ovr' thus we left the default in place.\n",
    "\n",
    "• verbose - Nothing changed in performance after adjusting this parameter thus we left it at the default of 0.\n",
    "\n",
    "• warm_start - Useless for 'liblinear' solver so we did not adjust.\n",
    "\n",
    "• n_jobs - Parameter is ignored with 'liblinear' solver.\n",
    "\n",
    "• l1_ratio - Only used for 'elasticnet' penalty so ignored.\n"
   ]
  },
  {
   "cell_type": "code",
   "execution_count": 6,
   "id": "893fb92d",
   "metadata": {},
   "outputs": [],
   "source": [
    "# MODEL 1\n",
    "\n",
    "# Import needed packages\n",
    "from sklearn.linear_model import LogisticRegression\n",
    "from sklearn import metrics as mt\n",
    "\n",
    "# Test train split \n",
    "import numpy as np\n",
    "from sklearn.model_selection import train_test_split\n",
    "\n",
    "X_train, X_test, y_train, y_test = train_test_split(X, y, test_size=0.2, random_state=123)"
   ]
  },
  {
   "cell_type": "code",
   "execution_count": 7,
   "id": "0cef1e27",
   "metadata": {},
   "outputs": [
    {
     "data": {
      "text/html": [
       "<div>\n",
       "<style scoped>\n",
       "    .dataframe tbody tr th:only-of-type {\n",
       "        vertical-align: middle;\n",
       "    }\n",
       "\n",
       "    .dataframe tbody tr th {\n",
       "        vertical-align: top;\n",
       "    }\n",
       "\n",
       "    .dataframe thead th {\n",
       "        text-align: right;\n",
       "    }\n",
       "</style>\n",
       "<table border=\"1\" class=\"dataframe\">\n",
       "  <thead>\n",
       "    <tr style=\"text-align: right;\">\n",
       "      <th></th>\n",
       "      <th>Fwd_Return_3M_Class</th>\n",
       "      <th>counts</th>\n",
       "    </tr>\n",
       "  </thead>\n",
       "  <tbody>\n",
       "    <tr>\n",
       "      <th>0</th>\n",
       "      <td>0</td>\n",
       "      <td>18747</td>\n",
       "    </tr>\n",
       "    <tr>\n",
       "      <th>1</th>\n",
       "      <td>1</td>\n",
       "      <td>23383</td>\n",
       "    </tr>\n",
       "  </tbody>\n",
       "</table>\n",
       "</div>"
      ],
      "text/plain": [
       "   Fwd_Return_3M_Class  counts\n",
       "0                    0   18747\n",
       "1                    1   23383"
      ]
     },
     "execution_count": 7,
     "metadata": {},
     "output_type": "execute_result"
    }
   ],
   "source": [
    "# Check balance of dependent variables\n",
    "y_train.groupby(['Fwd_Return_3M_Class']).size().reset_index(name='counts')"
   ]
  },
  {
   "cell_type": "code",
   "execution_count": 8,
   "id": "9f8145dd",
   "metadata": {},
   "outputs": [
    {
     "data": {
      "text/html": [
       "<div>\n",
       "<style scoped>\n",
       "    .dataframe tbody tr th:only-of-type {\n",
       "        vertical-align: middle;\n",
       "    }\n",
       "\n",
       "    .dataframe tbody tr th {\n",
       "        vertical-align: top;\n",
       "    }\n",
       "\n",
       "    .dataframe thead th {\n",
       "        text-align: right;\n",
       "    }\n",
       "</style>\n",
       "<table border=\"1\" class=\"dataframe\">\n",
       "  <thead>\n",
       "    <tr style=\"text-align: right;\">\n",
       "      <th></th>\n",
       "      <th>Fwd_Return_3M_Class</th>\n",
       "      <th>counts</th>\n",
       "    </tr>\n",
       "  </thead>\n",
       "  <tbody>\n",
       "    <tr>\n",
       "      <th>0</th>\n",
       "      <td>0</td>\n",
       "      <td>4615</td>\n",
       "    </tr>\n",
       "    <tr>\n",
       "      <th>1</th>\n",
       "      <td>1</td>\n",
       "      <td>5918</td>\n",
       "    </tr>\n",
       "  </tbody>\n",
       "</table>\n",
       "</div>"
      ],
      "text/plain": [
       "   Fwd_Return_3M_Class  counts\n",
       "0                    0    4615\n",
       "1                    1    5918"
      ]
     },
     "execution_count": 8,
     "metadata": {},
     "output_type": "execute_result"
    }
   ],
   "source": [
    "y_test.groupby(['Fwd_Return_3M_Class']).size().reset_index(name='counts')"
   ]
  },
  {
   "cell_type": "code",
   "execution_count": 9,
   "id": "d7db6e47",
   "metadata": {},
   "outputs": [],
   "source": [
    "# Normalize / scale variables\n",
    "from sklearn.preprocessing import StandardScaler\n",
    "\n",
    "# scale attributes by the training set\n",
    "scl_obj = StandardScaler()\n",
    "scl_obj.fit(X_train) # find scalings for each column that make this zero mean and unit std\n",
    "\n",
    "X_train_scaled = scl_obj.transform(X_train) # apply to training\n",
    "X_test_scaled = scl_obj.transform(X_test) # apply those means and std to the test set (without snooping at the test set values)"
   ]
  },
  {
   "cell_type": "code",
   "execution_count": 10,
   "id": "cfaf3523",
   "metadata": {},
   "outputs": [],
   "source": [
    "# train the model \n",
    "\n",
    "# Model 1 - with hyperparemeter tuning as detailed above\n",
    "lr_clf = LogisticRegression(penalty='l1', dual=False, tol=0.00001, C=0.05, fit_intercept=True, intercept_scaling=1, \n",
    "                            class_weight=\"balanced\", random_state = 123, solver='liblinear', max_iter=100,\n",
    "                           multi_class='auto', verbose=0) "
   ]
  },
  {
   "cell_type": "code",
   "execution_count": 11,
   "id": "91bf32d2",
   "metadata": {},
   "outputs": [
    {
     "name": "stdout",
     "output_type": "stream",
     "text": [
      "accuracy: 0.5510300958891104\n",
      "[[2572 2043]\n",
      " [2686 3232]]\n",
      "F1 score: 0.5775037970159922\n",
      "AUC: 0.5517217794509799\n",
      "Wall time: 4.01 s\n"
     ]
    }
   ],
   "source": [
    "%%time\n",
    "\n",
    "# Train object\n",
    "lr_clf.fit(X_train_scaled,y_train.values.ravel())  \n",
    "\n",
    "# Get test set predictions\n",
    "y_hat = lr_clf.predict(X_test_scaled) \n",
    "\n",
    "# Accuracy\n",
    "acc = mt.accuracy_score(y_test,y_hat)\n",
    "conf = mt.confusion_matrix(y_test,y_hat)\n",
    "print('accuracy:', acc )\n",
    "print(conf )\n",
    "\n",
    "#calculate F1 score\n",
    "f1 = f1_score(y_test, y_hat)\n",
    "print('F1 score:', f1 )\n",
    "\n",
    "#calculate AUC\n",
    "auc = roc_auc_score(y_test, y_hat)\n",
    "print('AUC:', auc )"
   ]
  },
  {
   "cell_type": "markdown",
   "id": "31f064d4",
   "metadata": {},
   "source": [
    "## MODEL 2 & 3\n",
    "\n",
    "Alternate logistic regression models using feature reduction.\n",
    "\n",
    "Model 2 uses the tuned Model 1 and then adjusts features based on importance weights for explanatory variables >= 0.1.\n",
    "\n",
    "Model 3 uses the tuned Model 1 and then adjusts features based on importance weights for explanatory variables >= 0.3.\n",
    "\n",
    "Although Model 2 reduces the amount of explanatory variables and to those with higher weights and incrementally improves the speed of the model calculation, there is a slight reduction to accuracy.  And given the speed differential is minimal, we chose Model 1 as our final logistic regression model."
   ]
  },
  {
   "cell_type": "code",
   "execution_count": 12,
   "id": "ebdc83b0",
   "metadata": {},
   "outputs": [
    {
     "name": "stdout",
     "output_type": "stream",
     "text": [
      "<class 'pandas.core.frame.DataFrame'>\n",
      "RangeIndex: 52663 entries, 0 to 52662\n",
      "Data columns (total 15 columns):\n",
      " #   Column               Non-Null Count  Dtype  \n",
      "---  ------               --------------  -----  \n",
      " 0   An_Down_6M           52663 non-null  float64\n",
      " 1   Best_EPS_6M_Rank     52663 non-null  float64\n",
      " 2   Best_EPS_1Y_Rank     52663 non-null  float64\n",
      " 3   An_Mark_6M           52663 non-null  float64\n",
      " 4   An_Unch_6M           52663 non-null  float64\n",
      " 5   An_Unch              52663 non-null  float64\n",
      " 6   NRR                  52663 non-null  float64\n",
      " 7   An_Mark              52663 non-null  float64\n",
      " 8   An_Down              52663 non-null  float64\n",
      " 9   Best_EPS_5Y_R2_Rank  52663 non-null  float64\n",
      " 10  Best_EPS_3Y_R2       52663 non-null  float64\n",
      " 11  Best_EPS_Mean_Med    52663 non-null  float64\n",
      " 12  Best_EPS_Hi_Lo       52663 non-null  float64\n",
      " 13  Best_EPS_Sigma_1Y    52663 non-null  float64\n",
      " 14  ROIC                 52663 non-null  float64\n",
      "dtypes: float64(15)\n",
      "memory usage: 6.0 MB\n"
     ]
    }
   ],
   "source": [
    "#MODEL 2\n",
    "#explanatory variables for feature reduction model\n",
    "# Selected by weights greater than .1\n",
    "X2 = df[['An_Down_6M','Best_EPS_6M_Rank', 'Best_EPS_1Y_Rank', 'An_Mark_6M','An_Unch_6M','An_Unch','NRR',\n",
    "        'An_Mark','An_Down','Best_EPS_5Y_R2_Rank','Best_EPS_3Y_R2','Best_EPS_Mean_Med','Best_EPS_Hi_Lo','Best_EPS_Sigma_1Y',\n",
    "        'ROIC']]\n",
    "\n",
    "X2.info()"
   ]
  },
  {
   "cell_type": "code",
   "execution_count": 13,
   "id": "32fa34c2",
   "metadata": {},
   "outputs": [
    {
     "name": "stdout",
     "output_type": "stream",
     "text": [
      "<class 'pandas.core.frame.DataFrame'>\n",
      "RangeIndex: 52663 entries, 0 to 52662\n",
      "Data columns (total 1 columns):\n",
      " #   Column               Non-Null Count  Dtype\n",
      "---  ------               --------------  -----\n",
      " 0   Fwd_Return_3M_Class  52663 non-null  int64\n",
      "dtypes: int64(1)\n",
      "memory usage: 411.6 KB\n"
     ]
    }
   ],
   "source": [
    "# y = response variable\n",
    "y2 = df[['Fwd_Return_3M_Class']]\n",
    "y2.info()"
   ]
  },
  {
   "cell_type": "code",
   "execution_count": 14,
   "id": "f44d495f",
   "metadata": {},
   "outputs": [],
   "source": [
    "# Logistical Regression Object\n",
    "lr_clf2 = LogisticRegression(penalty='l1', dual=False, tol=0.00001, C=0.05, fit_intercept=True, intercept_scaling=1, \n",
    "                            class_weight=\"balanced\", random_state = 123, solver='liblinear', max_iter=100,\n",
    "                           multi_class='auto', verbose=0)"
   ]
  },
  {
   "cell_type": "code",
   "execution_count": 15,
   "id": "a1e07f4f",
   "metadata": {},
   "outputs": [],
   "source": [
    "# Test train split \n",
    "X2_train, X2_test, y2_train, y2_test = train_test_split(X2, y2, test_size=0.2, random_state=123)"
   ]
  },
  {
   "cell_type": "code",
   "execution_count": 16,
   "id": "b2be7693",
   "metadata": {},
   "outputs": [],
   "source": [
    "# scale attributes by the training set\n",
    "scl_obj2 = StandardScaler()\n",
    "scl_obj2.fit(X2_train) # find scalings for each column that make this zero mean and unit std\n",
    "\n",
    "X_train_scaled2 = scl_obj2.transform(X2_train) # apply to training\n",
    "X_test_scaled2 = scl_obj2.transform(X2_test) # apply those means and std to the test set (without snooping at the test set values)"
   ]
  },
  {
   "cell_type": "code",
   "execution_count": 17,
   "id": "ebf783dc",
   "metadata": {},
   "outputs": [
    {
     "name": "stdout",
     "output_type": "stream",
     "text": [
      "accuracy: 0.5421057628405962\n",
      "[[2499 2116]\n",
      " [2707 3211]]\n",
      "F1 score: 0.5710982658959538\n",
      "AUC: 0.5420385389781692\n",
      "Wall time: 205 ms\n"
     ]
    }
   ],
   "source": [
    "%%time\n",
    "\n",
    "# Train object\n",
    "lr_clf2.fit(X_train_scaled2,y2_train.values.ravel())  \n",
    "\n",
    "# Get test set predictions\n",
    "y_hat2 = lr_clf2.predict(X_test_scaled2) \n",
    "\n",
    "# Accuracy\n",
    "acc = mt.accuracy_score(y2_test,y_hat2)\n",
    "conf = mt.confusion_matrix(y2_test,y_hat2)\n",
    "print('accuracy:', acc )\n",
    "print(conf )\n",
    "\n",
    "#calculate F1 score\n",
    "f1 = f1_score(y2_test, y_hat2)\n",
    "print('F1 score:', f1 )\n",
    "\n",
    "#calculate AUC\n",
    "auc = roc_auc_score(y2_test, y_hat2)\n",
    "print('AUC:', auc )"
   ]
  },
  {
   "cell_type": "code",
   "execution_count": 18,
   "id": "f2d4ce6a",
   "metadata": {},
   "outputs": [
    {
     "name": "stdout",
     "output_type": "stream",
     "text": [
      "<class 'pandas.core.frame.DataFrame'>\n",
      "RangeIndex: 52663 entries, 0 to 52662\n",
      "Data columns (total 11 columns):\n",
      " #   Column               Non-Null Count  Dtype  \n",
      "---  ------               --------------  -----  \n",
      " 0   An_Down_6M           52663 non-null  float64\n",
      " 1   Best_EPS_1Y_Rank     52663 non-null  float64\n",
      " 2   An_Mark_6M           52663 non-null  float64\n",
      " 3   An_Mark              52663 non-null  float64\n",
      " 4   An_Down              52663 non-null  float64\n",
      " 5   Best_EPS_5Y_R2_Rank  52663 non-null  float64\n",
      " 6   Best_EPS_3Y_R2       52663 non-null  float64\n",
      " 7   Best_EPS_Mean_Med    52663 non-null  float64\n",
      " 8   Best_EPS_Hi_Lo       52663 non-null  float64\n",
      " 9   Best_EPS_Sigma_1Y    52663 non-null  float64\n",
      " 10  ROIC                 52663 non-null  float64\n",
      "dtypes: float64(11)\n",
      "memory usage: 4.4 MB\n"
     ]
    }
   ],
   "source": [
    "#MODEL 3\n",
    "#explanatory variables for feature reduction model\n",
    "# Selected by weights greater than .3\n",
    "X3 = df[['An_Down_6M', 'Best_EPS_1Y_Rank', 'An_Mark_6M',\n",
    "        'An_Mark','An_Down','Best_EPS_5Y_R2_Rank','Best_EPS_3Y_R2','Best_EPS_Mean_Med','Best_EPS_Hi_Lo','Best_EPS_Sigma_1Y',\n",
    "        'ROIC']]\n",
    "\n",
    "X3.info()"
   ]
  },
  {
   "cell_type": "code",
   "execution_count": 19,
   "id": "ff11ec74",
   "metadata": {},
   "outputs": [
    {
     "name": "stdout",
     "output_type": "stream",
     "text": [
      "<class 'pandas.core.frame.DataFrame'>\n",
      "RangeIndex: 52663 entries, 0 to 52662\n",
      "Data columns (total 1 columns):\n",
      " #   Column               Non-Null Count  Dtype\n",
      "---  ------               --------------  -----\n",
      " 0   Fwd_Return_3M_Class  52663 non-null  int64\n",
      "dtypes: int64(1)\n",
      "memory usage: 411.6 KB\n"
     ]
    }
   ],
   "source": [
    "# y = response variable\n",
    "y3 = df[['Fwd_Return_3M_Class']]\n",
    "y3.info()"
   ]
  },
  {
   "cell_type": "code",
   "execution_count": 20,
   "id": "274e7181",
   "metadata": {},
   "outputs": [],
   "source": [
    "# Logistical Regression Object\n",
    "lr_clf3 = LogisticRegression(penalty='l1', dual=False, tol=0.00001, C=0.05, fit_intercept=True, intercept_scaling=1, \n",
    "                            class_weight=\"balanced\", random_state = 123, solver='liblinear', max_iter=100,\n",
    "                           multi_class='auto', verbose=0)"
   ]
  },
  {
   "cell_type": "code",
   "execution_count": 21,
   "id": "399af03e",
   "metadata": {},
   "outputs": [],
   "source": [
    "# Test train split \n",
    "X3_train, X3_test, y3_train, y3_test = train_test_split(X3, y3, test_size=0.2, random_state=123)"
   ]
  },
  {
   "cell_type": "code",
   "execution_count": 22,
   "id": "421c83c6",
   "metadata": {},
   "outputs": [],
   "source": [
    "# scale attributes by the training set\n",
    "scl_obj3 = StandardScaler()\n",
    "scl_obj3.fit(X3_train) # find scalings for each column that make this zero mean and unit std\n",
    "\n",
    "X_train_scaled3 = scl_obj3.transform(X3_train) # apply to training\n",
    "X_test_scaled3 = scl_obj3.transform(X3_test) # apply those means and std to the test set (without snooping at the test set values)"
   ]
  },
  {
   "cell_type": "code",
   "execution_count": 23,
   "id": "8f1dd7c3",
   "metadata": {},
   "outputs": [
    {
     "name": "stdout",
     "output_type": "stream",
     "text": [
      "accuracy: 0.5340358872116207\n",
      "[[2441 2174]\n",
      " [2734 3184]]\n",
      "F1 score: 0.564739269244413\n",
      "AUC: 0.5334735059170894\n",
      "Wall time: 109 ms\n"
     ]
    }
   ],
   "source": [
    "%%time\n",
    "\n",
    "# Train object\n",
    "lr_clf3.fit(X_train_scaled3,y3_train.values.ravel())  \n",
    "\n",
    "# Get test set predictions\n",
    "y_hat3 = lr_clf3.predict(X_test_scaled3) \n",
    "\n",
    "# Accuracy\n",
    "acc = mt.accuracy_score(y3_test,y_hat3)\n",
    "conf = mt.confusion_matrix(y3_test,y_hat3)\n",
    "print('accuracy:', acc )\n",
    "print(conf )\n",
    "\n",
    "#calculate F1 score\n",
    "f1 = f1_score(y3_test, y_hat3)\n",
    "print('F1 score:', f1 )\n",
    "\n",
    "#calculate AUC\n",
    "auc = roc_auc_score(y3_test, y_hat3)\n",
    "print('AUC:', auc )"
   ]
  },
  {
   "cell_type": "markdown",
   "id": "632459b7",
   "metadata": {},
   "source": [
    "## MODEL 4\n",
    "\n",
    "Model 4 uses dimension reduction / PCA to build the explanatory variables.  Upon running our PCA analysis, we chose to use 10 principle components in our model based on the results of the scree plot which should this amount captured nearly 100% of the total variance.\n"
   ]
  },
  {
   "cell_type": "code",
   "execution_count": 24,
   "id": "1760f63d",
   "metadata": {},
   "outputs": [
    {
     "name": "stdout",
     "output_type": "stream",
     "text": [
      "Eigenvalues:\n",
      "[4.17998999e+00 2.32216808e+00 2.00281699e+00 1.84349987e+00\n",
      " 1.07838281e+00 9.62395946e-01 9.19740332e-01 6.02294977e-01\n",
      " 5.02452108e-01 3.30426015e-01 2.39824046e-01 7.51204665e-03\n",
      " 5.96588549e-03 1.85253578e-03 9.63204410e-04]\n",
      "\n",
      "Variances (Percentage):\n",
      "[2.78660708e+01 1.54808266e+01 1.33518597e+01 1.22897658e+01\n",
      " 7.18908222e+00 6.41585114e+00 6.13148578e+00 4.01522360e+00\n",
      " 3.34961711e+00 2.20279827e+00 1.59879661e+00 5.00793601e-02\n",
      " 3.97718147e-02 1.23500040e-02 6.42124080e-03]\n",
      "\n"
     ]
    },
    {
     "data": {
      "text/plain": [
       "Text(0, 0.5, 'Explained variance (%)')"
      ]
     },
     "execution_count": 24,
     "metadata": {},
     "output_type": "execute_result"
    },
    {
     "data": {
      "image/png": "[encoded data removed]",
      "text/plain": [
       "<Figure size 432x288 with 1 Axes>"
      ]
     },
     "metadata": {
      "needs_background": "light"
     },
     "output_type": "display_data"
    }
   ],
   "source": [
    "from matplotlib import pyplot\n",
    "\n",
    "# Do feature scaling\n",
    "from sklearn.preprocessing import StandardScaler\n",
    "sc = StandardScaler()\n",
    "X_scaled = sc.fit_transform(X2)\n",
    "\n",
    "# Apply PCA\n",
    "from sklearn.decomposition import PCA\n",
    "pca = PCA(n_components=None)\n",
    "pca.fit(X_scaled)\n",
    "\n",
    "# Get the eigenvalues\n",
    "print(\"Eigenvalues:\")\n",
    "print(pca.explained_variance_)\n",
    "print()\n",
    "\n",
    "# Get explained variances\n",
    "print(\"Variances (Percentage):\")\n",
    "print(pca.explained_variance_ratio_ * 100)\n",
    "print()\n",
    "\n",
    "# Make the scree plot\n",
    "pyplot.plot(np.cumsum(pca.explained_variance_ratio_ * 100))\n",
    "pyplot.xlabel(\"Number of components (Dimensions)\")\n",
    "pyplot.ylabel(\"Explained variance (%)\")"
   ]
  },
  {
   "cell_type": "code",
   "execution_count": 25,
   "id": "6c6dba71",
   "metadata": {},
   "outputs": [
    {
     "name": "stdout",
     "output_type": "stream",
     "text": [
      "          0         1         2         3         4         5         6  \\\n",
      "0 -0.268409  1.273752 -1.008550 -0.071486 -1.297822  1.137634  0.003183   \n",
      "1  4.393952 -1.949254 -0.755515 -0.172601  3.400657  0.310062  1.713363   \n",
      "2 -0.694271  1.550715  1.047877  1.099140  0.513444 -0.418342 -1.015187   \n",
      "3  0.993207 -1.655574 -0.745595 -0.597915  0.352893  0.365016 -0.318081   \n",
      "4 -1.570718 -0.914930  1.250978 -0.131635  0.319105 -0.043232 -0.357801   \n",
      "\n",
      "          7         8         9  \n",
      "0  1.896500 -0.399462 -1.315777  \n",
      "1  0.048878 -1.276809  2.009399  \n",
      "2  0.480146  0.980311 -0.987108  \n",
      "3  1.750193 -0.038827 -0.389318  \n",
      "4 -0.956501 -0.625114  0.598352  \n",
      "\n",
      "Size: \n",
      "(52663, 10)\n"
     ]
    }
   ],
   "source": [
    "# Do feature scaling\n",
    "from sklearn.preprocessing import StandardScaler\n",
    "sc = StandardScaler()\n",
    "X_scaled = sc.fit_transform(X2)\n",
    "\n",
    "# Apply PCA\n",
    "from sklearn.decomposition import PCA\n",
    "pca = PCA(n_components=10)\n",
    "X_pca = pca.fit_transform(X_scaled)\n",
    "\n",
    "# Get the transformed dataset\n",
    "X_pca = pd.DataFrame(X_pca)\n",
    "print(X_pca.head())\n",
    "print(\"\\nSize: \")\n",
    "print(X_pca.shape)"
   ]
  },
  {
   "cell_type": "code",
   "execution_count": 26,
   "id": "0b2100a0",
   "metadata": {},
   "outputs": [
    {
     "name": "stdout",
     "output_type": "stream",
     "text": [
      "<class 'pandas.core.frame.DataFrame'>\n",
      "RangeIndex: 52663 entries, 0 to 52662\n",
      "Data columns (total 1 columns):\n",
      " #   Column               Non-Null Count  Dtype\n",
      "---  ------               --------------  -----\n",
      " 0   Fwd_Return_3M_Class  52663 non-null  int64\n",
      "dtypes: int64(1)\n",
      "memory usage: 411.6 KB\n"
     ]
    }
   ],
   "source": [
    "# y = response variable\n",
    "y4 = df[['Fwd_Return_3M_Class']]\n",
    "y4.info()"
   ]
  },
  {
   "cell_type": "code",
   "execution_count": 27,
   "id": "0df40a65",
   "metadata": {},
   "outputs": [],
   "source": [
    "# Logistical Regression Object\n",
    "lr_clf4 = LogisticRegression(penalty='l1', dual=False, tol=0.00001, C=0.05, fit_intercept=True, intercept_scaling=1, \n",
    "                            class_weight=\"balanced\", random_state = 123, solver='liblinear', max_iter=100,\n",
    "                           multi_class='auto', verbose=0)"
   ]
  },
  {
   "cell_type": "code",
   "execution_count": 28,
   "id": "2d4b44c6",
   "metadata": {},
   "outputs": [],
   "source": [
    "# Test train split \n",
    "X4_train_pca, X4_test_pca, y4_train, y4_test = train_test_split(X_pca, y4, test_size=0.2, random_state=123)"
   ]
  },
  {
   "cell_type": "code",
   "execution_count": 29,
   "id": "4f49ca94",
   "metadata": {},
   "outputs": [
    {
     "name": "stdout",
     "output_type": "stream",
     "text": [
      "accuracy: 0.5386879331624419\n",
      "[[2513 2102]\n",
      " [2757 3161]]\n",
      "F1 score: 0.5654234862713532\n",
      "AUC: 0.5393309319090773\n",
      "Wall time: 42.6 ms\n"
     ]
    }
   ],
   "source": [
    "%%time\n",
    "\n",
    "# Train object\n",
    "lr_clf4.fit(X4_train_pca,y4_train.values.ravel())  \n",
    "\n",
    "# Get test set predictions\n",
    "y_hat4 = lr_clf4.predict(X4_test_pca) \n",
    "\n",
    "# Accuracy\n",
    "acc = mt.accuracy_score(y4_test,y_hat4)\n",
    "conf = mt.confusion_matrix(y4_test,y_hat4)\n",
    "print('accuracy:', acc )\n",
    "print(conf )\n",
    "\n",
    "#calculate F1 score\n",
    "f1 = f1_score(y4_test, y_hat4)\n",
    "print('F1 score:', f1 )\n",
    "\n",
    "#calculate AUC\n",
    "auc = roc_auc_score(y4_test, y_hat4)\n",
    "print('AUC:', auc )"
   ]
  },
  {
   "cell_type": "markdown",
   "id": "71c6ff7e",
   "metadata": {},
   "source": [
    "### UPDATED SECTION - Logistic regression final\n",
    "\n",
    "As detailed above, after assessing our four models we decided to go with Model 1 which included all the explanatory variables. Thus the added performance (even if incremental) is deemed worth the few seconds longer it takes to run the model . "
   ]
  },
  {
   "cell_type": "code",
   "execution_count": 30,
   "id": "3554ae50",
   "metadata": {},
   "outputs": [
    {
     "name": "stdout",
     "output_type": "stream",
     "text": [
      "accuracy: 0.5510300958891104\n",
      "[[2572 2043]\n",
      " [2686 3232]]\n",
      "F1 score: 0.5775037970159922\n",
      "AUC: 0.5517217794509799\n"
     ]
    }
   ],
   "source": [
    "# Accuracy\n",
    "acc = mt.accuracy_score(y_test,y_hat)\n",
    "conf = mt.confusion_matrix(y_test,y_hat)\n",
    "print('accuracy:', acc )\n",
    "print(conf )\n",
    "\n",
    "#calculate F1 score\n",
    "f1 = f1_score(y_test, y_hat)\n",
    "print('F1 score:', f1 )\n",
    "\n",
    "#calculate AUC\n",
    "auc = roc_auc_score(y_test, y_hat)\n",
    "print('AUC:', auc )"
   ]
  },
  {
   "cell_type": "markdown",
   "id": "375343a3",
   "metadata": {},
   "source": [
    "# SUPPORT VECTOR MACHINES MODELLING"
   ]
  },
  {
   "cell_type": "code",
   "execution_count": 31,
   "id": "771ac4b4",
   "metadata": {},
   "outputs": [],
   "source": [
    "X_svm = X.values\n",
    "y_svm = y.values"
   ]
  },
  {
   "cell_type": "code",
   "execution_count": 32,
   "id": "055f5762",
   "metadata": {},
   "outputs": [],
   "source": [
    "# Normalize / scale variables\n",
    "from sklearn.preprocessing import StandardScaler\n",
    "\n",
    "# scale attributes by the training set\n",
    "scl_obj5 = StandardScaler()\n",
    "scl_obj5.fit(X_svm) # find scalings for each column that make this zero mean and unit std\n",
    "\n",
    "X_scaled = scl_obj5.transform(X_svm) # apply to training"
   ]
  },
  {
   "cell_type": "code",
   "execution_count": 37,
   "id": "0ca879d3",
   "metadata": {},
   "outputs": [
    {
     "name": "stdout",
     "output_type": "stream",
     "text": [
      "ShuffleSplit(n_splits=1, random_state=123, test_size=0.2, train_size=None)\n"
     ]
    }
   ],
   "source": [
    "# Import library\n",
    "from sklearn.svm import SVC\n",
    "\n",
    "# Train the model\n",
    "svm_clf = SVC() \n",
    "\n",
    "# Cross validation object\n",
    "from sklearn.model_selection import ShuffleSplit\n",
    "\n",
    "num_cv_iterations = 1\n",
    "num_instances = len(y)\n",
    "cv_object = ShuffleSplit(n_splits=num_cv_iterations,test_size  = 0.2, random_state=123)\n",
    "                         \n",
    "print(cv_object)"
   ]
  },
  {
   "cell_type": "code",
   "execution_count": 38,
   "id": "5329431b",
   "metadata": {
    "scrolled": true
   },
   "outputs": [
    {
     "name": "stdout",
     "output_type": "stream",
     "text": [
      "====Iteration 0  ====\n",
      "accuracy 0.7251495300484192\n",
      "confusion matrix\n",
      " [[2522 2093]\n",
      " [ 802 5116]]\n",
      "F1 score: 0.779462177192047\n",
      "AUC: 0.7054800584514181\n",
      "Wall time: 3min 23s\n"
     ]
    }
   ],
   "source": [
    "%%time\n",
    "\n",
    "iter_num=0\n",
    "# the indices are the rows used for training and testing in each iteration\n",
    "for train_indices, test_indices in cv_object.split(X_scaled,y): \n",
    "    X_train = X_scaled[train_indices]\n",
    "    y_train = y_svm[train_indices]\n",
    "    \n",
    "    X_test = X_scaled[test_indices]\n",
    "    y_test = y_svm[test_indices]\n",
    "    \n",
    "    svm_clf.fit(X_train,y_train.ravel())  # train object\n",
    "    y_hat = svm_clf.predict(X_test) # get test set predictions\n",
    "\n",
    "    # accuracy and confusion matrix for this iterations of training/testing\n",
    "    acc = mt.accuracy_score(y_test,y_hat)\n",
    "    conf = mt.confusion_matrix(y_test,y_hat)\n",
    "    print(\"====Iteration\",iter_num,\" ====\")\n",
    "    print(\"accuracy\", acc )\n",
    "    print(\"confusion matrix\\n\",conf)\n",
    "    \n",
    "    #calculate F1 score\n",
    "    f1 = f1_score(y_test, y_hat)\n",
    "    print('F1 score:', f1 )\n",
    "    \n",
    "    #calculate AUC\n",
    "    auc = roc_auc_score(y_test, y_hat)\n",
    "    print('AUC:', auc )\n",
    "    \n",
    "    iter_num+=1\n"
   ]
  },
  {
   "cell_type": "markdown",
   "id": "ce4942f3",
   "metadata": {},
   "source": [
    "# UPDATED SECTION - Here are the parameter adjustments to the SVM model above: \n",
    "- Instead of only using the \"balanced\" option for the class_weight parameter, I will also use Stratified ShuffleSplit; This is a cross-validator that provides train/test indices to split data in train/test sets. The cross-validation object is a merge of StratifiedKFold and ShuffleSplit, which returns stratified randomized folds. These folds are made by preserving the percentage of samples for each class. The reason for using Stratified ShuffleSplit instead of ShuffleSplit is in order to train the SVM model on more balanced class sets, which might lead to an increase in performance. However, because stratified random splits do not guarantee that all folds will be different- but this is unlikely for a sizeable data set. The point in using both the class_weight = \"balanced\" parameter and a Stratified ShuffleSplit is to optimize the class balance in our data set.\n",
    "- I am also going to increase the train size to 90% of the length of the data set. I am doing this in an effort to maximize the amount of data the model has to train to increase the accuracy- albeit, this effort might only lead to a miniscule increase in our chosen metrics.\n",
    "- I am also going to compare these changes with a linear SVM classifier with stochastic gradient descent, which will give us the gradient of the loss with each estimated sample at a time, updating the model with the learning rate. \n",
    "- C - I adjusted the regularization parameter both up and down from the default of 1 and found lowering the value (down to 0.05) hurt performance significantly, while raising the value (up to 2) was additive thus we chose to go with 2.\n",
    "- kernel - I tested the various kernel options and found 'rbf' to be the best for performance so that was chosen.\n",
    "- gamma - I tested the kernel coefficient and found auto to produce the best performance results so that was chosen.\n",
    "- coef0 - This parameter was skipped since 'rbf' was used.\n",
    "- tol - This parameter represents the tolerance for stopping criterion and the default is 0.001.  I tested numbers up to 1 and found to be relatively a wash as the higher number aided accuracy but lowered the F1 and AUC all of which was only by hundreds of a tenth of a percent so we chose the default of 0.001.\n",
    "\n",
    "#### I also added/clarified the Support Vector Insight section to include the \"Stratified ShuffleSplit, non-linear SVM\" model and the \"Linear SVM with SGD\" model. "
   ]
  },
  {
   "cell_type": "code",
   "execution_count": 49,
   "id": "aee3dc6a",
   "metadata": {},
   "outputs": [
    {
     "name": "stdout",
     "output_type": "stream",
     "text": [
      "StratifiedShuffleSplit(n_splits=1, random_state=123, test_size=0.1,\n",
      "            train_size=None)\n"
     ]
    }
   ],
   "source": [
    "# Stratified ShuffleSplit\n",
    "from sklearn.model_selection import StratifiedShuffleSplit\n",
    "svm_clf = SVC(C = 2, kernel ='rbf', gamma='auto', class_weight='balanced', tol=0.001) \n",
    "num_cv_iterations = 1\n",
    "num_instances = len(y)\n",
    "cv_object = StratifiedShuffleSplit(n_splits = num_cv_iterations, test_size  = 0.1, random_state=123)\n",
    "print(cv_object)\n"
   ]
  },
  {
   "cell_type": "code",
   "execution_count": 50,
   "id": "09237989",
   "metadata": {
    "scrolled": true
   },
   "outputs": [
    {
     "name": "stdout",
     "output_type": "stream",
     "text": [
      "====Iteration 0  ====\n",
      "accuracy 0.7748243782039111\n",
      "confusion matrix\n",
      " [[1745  592]\n",
      " [ 594 2336]]\n",
      "F1 score: 0.7975418231478321\n",
      "AUC: 0.7719767036003394\n",
      "Wall time: 6min 7s\n"
     ]
    }
   ],
   "source": [
    "%%time\n",
    "\n",
    "iter_num=0\n",
    "# the indices are the rows used for training and testing in each iteration\n",
    "for train_indices, test_indices in cv_object.split(X_scaled,y): \n",
    "    X_train = X_scaled[train_indices]\n",
    "    y_train = y_svm[train_indices]\n",
    "    \n",
    "    X_test = X_scaled[test_indices]\n",
    "    y_test = y_svm[test_indices]\n",
    "    \n",
    "    svm_clf.fit(X_train,y_train.ravel())  # train object\n",
    "    y_hat = svm_clf.predict(X_test) # get test set predictions\n",
    "\n",
    "    # accuracy and confusion matrix for this iterations of training/testing\n",
    "    acc = mt.accuracy_score(y_test,y_hat)\n",
    "    conf = mt.confusion_matrix(y_test,y_hat)\n",
    "    print(\"====Iteration\",iter_num,\" ====\")\n",
    "    print(\"accuracy\", acc )\n",
    "    print(\"confusion matrix\\n\",conf)\n",
    "    \n",
    "    #calculate F1 score\n",
    "    f1 = f1_score(y_test, y_hat)\n",
    "    print('F1 score:', f1 )\n",
    "    \n",
    "    #calculate AUC\n",
    "    auc = roc_auc_score(y_test, y_hat)\n",
    "    print('AUC:', auc )\n",
    "    \n",
    "    iter_num+=1"
   ]
  },
  {
   "cell_type": "code",
   "execution_count": 51,
   "id": "2038b6b8",
   "metadata": {},
   "outputs": [
    {
     "name": "stdout",
     "output_type": "stream",
     "text": [
      "StratifiedShuffleSplit(n_splits=1, random_state=123, test_size=0.1,\n",
      "            train_size=None)\n"
     ]
    }
   ],
   "source": [
    "# Linear SVM with SGD Learning\n",
    "# Using the same Stratified ShuffleSplit object from above\n",
    "from sklearn.linear_model import SGDClassifier\n",
    "\n",
    "num_cv_iterations = 1\n",
    "num_instances = len(y)\n",
    "cv_object = StratifiedShuffleSplit(n_splits = num_cv_iterations, test_size  = 0.1, random_state=123)\n",
    "print(cv_object)\n",
    "svm_sgd = SGDClassifier(alpha = 0.01, fit_intercept = True, \n",
    "                       l1_ratio = 0.0, learning_rate = 'optimal',\n",
    "                       loss = 'hinge', n_iter_no_change = 5, \n",
    "                       n_jobs = -1, penalty = 'l2')\n",
    "\n"
   ]
  },
  {
   "cell_type": "code",
   "execution_count": 52,
   "id": "aeef6f53",
   "metadata": {},
   "outputs": [
    {
     "name": "stdout",
     "output_type": "stream",
     "text": [
      "====Iteration 0  ====\n",
      "accuracy 0.7748243782039111\n",
      "confusion matrix\n",
      " [[1745  592]\n",
      " [ 594 2336]]\n",
      "F1 score: 0.7975418231478321\n",
      "AUC: 0.7719767036003394\n",
      "Wall time: 11.1 s\n"
     ]
    }
   ],
   "source": [
    "%%time \n",
    "iter_num=0\n",
    "# the indices are the rows used for training and testing in each iteration\n",
    "for train_indices, test_indices in cv_object.split(X_scaled,y): \n",
    "    X_train = X_scaled[train_indices]\n",
    "    y_train = y_svm[train_indices]\n",
    "    \n",
    "    X_test = X_scaled[test_indices]\n",
    "    y_test = y_svm[test_indices]\n",
    "    \n",
    "    svm_sgd.fit(X_train,y_train.ravel())  # train object\n",
    "    y_hat = svm_clf.predict(X_test) # get test set predictions\n",
    "\n",
    "    # accuracy and confusion matrix for this iterations of training/testing\n",
    "    acc = mt.accuracy_score(y_test,y_hat)\n",
    "    conf = mt.confusion_matrix(y_test,y_hat)\n",
    "    print(\"====Iteration\",iter_num,\" ====\")\n",
    "    print(\"accuracy\", acc )\n",
    "    print(\"confusion matrix\\n\",conf)\n",
    "    \n",
    "    #calculate F1 score\n",
    "    f1 = f1_score(y_test, y_hat)\n",
    "    print('F1 score:', f1 )\n",
    "    \n",
    "    #calculate AUC\n",
    "    auc = roc_auc_score(y_test, y_hat)\n",
    "    print('AUC:', auc )\n",
    "    \n",
    "    iter_num+=1\n"
   ]
  },
  {
   "cell_type": "markdown",
   "id": "dd3500ec",
   "metadata": {},
   "source": [
    "### UPDATED SECTION - \n",
    "Findings after hyperparameter tuning and model comparison: \n",
    "\n",
    "It seems that each hyperparameter tuned in each subsequent SVM model seemed to slightly boost performance in terms of accuracy, F1 score, and AUC. Further model hyperparameter tuning would be advanced by finding the optimal cost function; however, we believe that a gradient based alternative would be better suited for scaling the model should we include more features- should the case arise. \n",
    "\n",
    "The Linear SVM with SGD Learning was deemed the best model as it had comparable performance as the tuned SVC but was much faster (6 min vs 11 seconds)."
   ]
  },
  {
   "cell_type": "markdown",
   "id": "b9383abf",
   "metadata": {},
   "source": [
    "# MODEL ADVANTAGES - COMPARING MODELS"
   ]
  },
  {
   "cell_type": "markdown",
   "id": "71b6e575",
   "metadata": {},
   "source": [
    "Detailed below are the finalized results for our logistic regression (LR) and support vector (SVM) models based on pertinent stats:\n",
    "\n",
    "Accuracy:  LR = 55.1% vs SVM = 77.5%\n",
    "\n",
    "F1 Score:  LR = 57.8% vs SVM = 79.8%\n",
    "\n",
    "AUC:  LR = 55.2% vs SVM = 77.2%\n",
    "\n",
    "Training time:  LR = 3.94 seconds vs SVM = 11.1 seconds\n",
    "\n",
    "Upon comparing the outputs of our models, we support the choice of the SVM as our recommended model from this analysis.  As you can see above, the performance (Accuracy, F1 score (which captures precision and recall) and Area Under the Curve (AUC)) are superior for the SVM relative to the LR model.  With this better performance comes at only a few seconds longer in training time.\n",
    "\n",
    "In the highly competitive industry of investment management, the ability to outperform the market is extremely difficult.  The target use case for our project analyses (including this lab) is an investment manager that is picking stocks that will outperform and avoiding those that will underperform (i.e. long-only styled strategies).  Thus on the one hand, one could see the results of this analysis in a modestly positive light given we had accuracies nearly 80% which in the investment management industry is favorable / would outperform the market.  On the other hand, we remain optimistic that we can improve upon such results and are looking forward to digging deeper into different classification techniques / algorithms in hopes that we can further improve the outputs and prediction capabilities with our dataset during forthcoming modelling analyses."
   ]
  },
  {
   "cell_type": "markdown",
   "id": "c8779269",
   "metadata": {},
   "source": [
    "# UPDATED SECTION - INTERPRET LOGISTIC REGRESSION FEATURE IMPORTANCE"
   ]
  },
  {
   "cell_type": "markdown",
   "id": "b2ecc6d5",
   "metadata": {},
   "source": [
    "Upon completion of building and finalizing our logistic modelling efforts, we then sought to explore which features showed the most efficacy on our chosen model.  \n",
    "\n",
    "The top 5 variables based on absolute values with their respective coefficient are as follows (in order from highest to lowest):\n",
    "\n",
    "Best_EPS_1Y_Rank has weight of -0.16163764183821985\n",
    "\n",
    "An_Down_6M has weight of 0.14968924221077506\n",
    "\n",
    "An_Down has weight of -0.134536882180097\n",
    "\n",
    "Best_EPS_3Y_R2 has weight of 0.12247478513828015\n",
    "\n",
    "FCF_Mgn has weight of 0.11565699518846338\n",
    "\n",
    "\n",
    "Refresher on the definition of each of these variables:\n",
    "\n",
    "An_Down - This represents the percentage during the past 3 month period of total revisions by the sell side analysts covering a given stock which were negative.\n",
    "\n",
    "An_Down_6M - This variable seeks to capture the second derivative changes of \"An_Down\" and is calculated by subtracting the \"An_Down\" value 6 months ago from the current value.  This helps to determine the overall trend in such negative revisions during this time period.\n",
    "\n",
    "Best_EPS_1Y_Rank - This represents the rank of a stock in this universe based on the past 1 year growth rate of their median consensus EPS.\n",
    "\n",
    "Best_EPS_3Y_R2 - This metric calculates the R2 on a 3 year basis between EPS and time.\n",
    "\n",
    "FCF_Mgn - This represents the trailing 1Y free cash flow margin of the stock.  \n",
    "\n",
    "The three variables of Best_EPS_1Y_Rank, Best_EPS_3Y_R2 and FCF_Mgn seem to be intuitive with their predictability based on the following:\n",
    "\n",
    "Based on the concept of momentum (which is the basis of our EPS Estimate Revision momentum modelling efforts detailed in the prior lab and serves as the same data used in this lab), we were not surprised to see Best_EPS_1Y_Rank showing efficacy and a positive relationship with predicting whether a stock will outperform or not during the next 3 months.  It appears that a 1 year trend is more powerful in it's predictability than both shorter and longer term calculations thus may be a sweet spot of not being too short of a time period which can capture noise in the data and too long term which is not able to capture changes in trend.  Also confirming our thoughts on the subject of the power of stability measures such as R2 which are also positively correlated, as well as free cash flow margin which is evidence of the underlying strength of fundamentals.\n",
    "\n",
    "The most complex yet interesting variables were the top two which were An_Down and An_Down_6M which showed positive and negative relationships with the response variable, respectively.  The overall theory we have for this result is based on the emotions of the stock market whereby negative sentiment towards a stock can be extrapolated incorrectly especially in the short term.  To best explain what may be going on with these variables we will provide an example.  Let's assume XYZ stock has a An_Down value of 100 which means that 100% of the analysts have revised their estimates down during the past 3 months.  As such, this is deemed to be negative for the stock price during the next 3 months per our model.  At this same time, let's assume the An_Down_6M value is also 100 which means that the An_Down value 6 months ago was 0 and implies that the negative revisions have taken place in recent months (i.e. this negative trend has not been in place for greater than 6 months).  This implies that the sentiment towards EPS has turned down from where it was more recently.  So how can this be a potential positive for the stock price in the next 3 months?  This goes back to our extrapolation theory that when analysts get too negative too fast in the short term they may have become extrapolated incorrectly and become too pessimistic (and vice versa) in their estimates which the market will self correct by mean reverting the stock during the next 3 months.  "
   ]
  },
  {
   "cell_type": "code",
   "execution_count": 53,
   "id": "13ac84a7",
   "metadata": {},
   "outputs": [
    {
     "name": "stdout",
     "output_type": "stream",
     "text": [
      "Mkt_Cap has weight of 0.06103740750025913\n",
      "Best_EPS_1M has weight of 0.019647185449629036\n",
      "Best_EPS_3M has weight of 0.057368427211552574\n",
      "Best_EPS_6M has weight of -0.07452111488174266\n",
      "Best_EPS_1Y has weight of 0.00354736703105763\n",
      "Best_EPS_3Y has weight of -0.007794109237356608\n",
      "Best_EPS_5Y has weight of 0.04128755769323904\n",
      "Best_EPS_3M_v5Y has weight of -0.023398986531238435\n",
      "Best_EPS_6M_v5Y has weight of 0.0\n",
      "Best_EPS_1Y_v5Y has weight of 0.07142451831577892\n",
      "Best_EPS_3Y_v5Y has weight of 0.028557241505640738\n",
      "Best_EPS_3M_Rank has weight of 0.05096813512985673\n",
      "Best_EPS_6M_Rank has weight of 0.11699402193371204\n",
      "Best_EPS_1Y_Rank has weight of -0.16163764183821985\n",
      "ST_Accel has weight of 0.0\n",
      "ST_Accel_Class has weight of -0.04656526290490276\n",
      "NRR_6M has weight of 0.0\n",
      "An_Mark_6M has weight of 0.0\n",
      "An_Unch_6M has weight of 0.04883298324627607\n",
      "An_Down_6M has weight of 0.14968924221077506\n",
      "An_Up_6M has weight of 0.0\n",
      "NRR_3M has weight of 0.0\n",
      "An_Mark_3M has weight of 0.0\n",
      "An_Unch_3M has weight of 0.0\n",
      "An_Down_3M has weight of 0.08649297368126138\n",
      "An_Up_3M has weight of 0.0\n",
      "NRR has weight of 0.0\n",
      "An_Mark has weight of 0.0\n",
      "An_Unch has weight of 0.042813499602715376\n",
      "An_Down has weight of -0.134536882180097\n",
      "An_Up has weight of 0.0\n",
      "Return_1M has weight of 0.0011352325828632723\n",
      "Return_3M has weight of 0.012580323830695512\n",
      "Return_6M has weight of -0.05879255798556983\n",
      "Best_EPS_5Y_R2 has weight of -0.03203896082889624\n",
      "Best_EPS_5Y_R2_Rank has weight of 0.09592977334197664\n",
      "Best_EPS_5Y_SD has weight of -0.06535750803063513\n",
      "Best_EPS_5Y_Stability has weight of -0.004865906007881001\n",
      "Best_EPS_5Y_R2_p has weight of 0.0\n",
      "Best_EPS_3Y_R2 has weight of 0.12247478513828015\n",
      "Best_EPS_3Y_R2_p has weight of -0.08961565877783022\n",
      "Best_EPS_1Y_R2 has weight of 0.05150363236982818\n",
      "Best_EPS_1Y_R2_p has weight of -0.08028390165525805\n",
      "Best_EPS_Sigma has weight of -0.054517555271428285\n",
      "Best_EPS_Mean_Med has weight of 0.03150608892703393\n",
      "Best_EPS_Hi_Lo has weight of 0.0\n",
      "Best_EPS_Up_10_6M has weight of -0.007943112759377488\n",
      "Best_EPS_Up_10_3M has weight of -0.017132472665786595\n",
      "Best_EPS_Up_10_1M has weight of -0.015788890949124165\n",
      "Best_EPS_5Y_CV has weight of 0.059320072002170154\n",
      "Best_EPS_Dn_10_6M has weight of 0.027708013443105976\n",
      "Best_EPS_Dn_10_3M has weight of 0.0\n",
      "Best_EPS_Dn_10_1M has weight of -0.014297780993833166\n",
      "Best_EPS_Sigma_3M has weight of -0.031227626620410603\n",
      "Best_EPS_Sigma_6M has weight of -0.015718893264372362\n",
      "Best_EPS_Sigma_1Y has weight of 0.09436940244344365\n",
      "ROIC has weight of 0.10283168166697858\n",
      "ROIC_1Y_Chg has weight of -0.011440726737176879\n",
      "ROIC_SD has weight of -0.06184871045525392\n",
      "ROE has weight of 0.02075245918688076\n",
      "ROE_1Y_Chg has weight of 0.0306221766009763\n",
      "ROE_SD has weight of 0.0223362910848299\n",
      "FCF_Mgn has weight of 0.11565699518846338\n",
      "FCF_Mgn_1Y_Chg has weight of -0.04963019792576682\n",
      "FCF_Mgn_SD has weight of -0.008314971784159094\n",
      "Op_Mgn has weight of -0.10770897840887662\n",
      "Op_Mgn_1Y_Chg has weight of 0.03396383599646499\n",
      "Op_Mgn_SD has weight of 0.0\n"
     ]
    }
   ],
   "source": [
    "# List out attributes with coefficients for Model 1\n",
    "zip_vars = zip(lr_clf.coef_.T,X.columns) \n",
    "for coef, name in zip_vars:\n",
    "    print(name, 'has weight of', coef[0]) "
   ]
  },
  {
   "cell_type": "code",
   "execution_count": 54,
   "id": "e1f4d9dc",
   "metadata": {},
   "outputs": [
    {
     "name": "stdout",
     "output_type": "stream",
     "text": [
      "Feature: 0, Score: 0.06104\n",
      "Feature: 1, Score: 0.01965\n",
      "Feature: 2, Score: 0.05737\n",
      "Feature: 3, Score: -0.07452\n",
      "Feature: 4, Score: 0.00355\n",
      "Feature: 5, Score: -0.00779\n",
      "Feature: 6, Score: 0.04129\n",
      "Feature: 7, Score: -0.02340\n",
      "Feature: 8, Score: 0.00000\n",
      "Feature: 9, Score: 0.07142\n",
      "Feature: 10, Score: 0.02856\n",
      "Feature: 11, Score: 0.05097\n",
      "Feature: 12, Score: 0.11699\n",
      "Feature: 13, Score: -0.16164\n",
      "Feature: 14, Score: 0.00000\n",
      "Feature: 15, Score: -0.04657\n",
      "Feature: 16, Score: 0.00000\n",
      "Feature: 17, Score: 0.00000\n",
      "Feature: 18, Score: 0.04883\n",
      "Feature: 19, Score: 0.14969\n",
      "Feature: 20, Score: 0.00000\n",
      "Feature: 21, Score: 0.00000\n",
      "Feature: 22, Score: 0.00000\n",
      "Feature: 23, Score: 0.00000\n",
      "Feature: 24, Score: 0.08649\n",
      "Feature: 25, Score: 0.00000\n",
      "Feature: 26, Score: 0.00000\n",
      "Feature: 27, Score: 0.00000\n",
      "Feature: 28, Score: 0.04281\n",
      "Feature: 29, Score: -0.13454\n",
      "Feature: 30, Score: 0.00000\n",
      "Feature: 31, Score: 0.00114\n",
      "Feature: 32, Score: 0.01258\n",
      "Feature: 33, Score: -0.05879\n",
      "Feature: 34, Score: -0.03204\n",
      "Feature: 35, Score: 0.09593\n",
      "Feature: 36, Score: -0.06536\n",
      "Feature: 37, Score: -0.00487\n",
      "Feature: 38, Score: 0.00000\n",
      "Feature: 39, Score: 0.12247\n",
      "Feature: 40, Score: -0.08962\n",
      "Feature: 41, Score: 0.05150\n",
      "Feature: 42, Score: -0.08028\n",
      "Feature: 43, Score: -0.05452\n",
      "Feature: 44, Score: 0.03151\n",
      "Feature: 45, Score: 0.00000\n",
      "Feature: 46, Score: -0.00794\n",
      "Feature: 47, Score: -0.01713\n",
      "Feature: 48, Score: -0.01579\n",
      "Feature: 49, Score: 0.05932\n",
      "Feature: 50, Score: 0.02771\n",
      "Feature: 51, Score: 0.00000\n",
      "Feature: 52, Score: -0.01430\n",
      "Feature: 53, Score: -0.03123\n",
      "Feature: 54, Score: -0.01572\n",
      "Feature: 55, Score: 0.09437\n",
      "Feature: 56, Score: 0.10283\n",
      "Feature: 57, Score: -0.01144\n",
      "Feature: 58, Score: -0.06185\n",
      "Feature: 59, Score: 0.02075\n",
      "Feature: 60, Score: 0.03062\n",
      "Feature: 61, Score: 0.02234\n",
      "Feature: 62, Score: 0.11566\n",
      "Feature: 63, Score: -0.04963\n",
      "Feature: 64, Score: -0.00831\n",
      "Feature: 65, Score: -0.10771\n",
      "Feature: 66, Score: 0.03396\n",
      "Feature: 67, Score: 0.00000\n"
     ]
    }
   ],
   "source": [
    "# List out attributes by numeric identifier to ease interpretation\n",
    "\n",
    "# get importance\n",
    "importance = lr_clf.coef_[0]\n",
    "# summarize feature importance\n",
    "for i,v in enumerate(importance):\n",
    "\tprint('Feature: %0d, Score: %.5f' % (i,v))"
   ]
  },
  {
   "cell_type": "code",
   "execution_count": 55,
   "id": "3135c29b",
   "metadata": {},
   "outputs": [
    {
     "data": {
      "image/png": "[encoded data removed]",
      "text/plain": [
       "<Figure size 432x288 with 1 Axes>"
      ]
     },
     "metadata": {
      "needs_background": "light"
     },
     "output_type": "display_data"
    }
   ],
   "source": [
    "from matplotlib import pyplot\n",
    "\n",
    "# plot feature importance by numeric identifier to ease interpretation\n",
    "pyplot.bar([x for x in range(len(importance))], importance)\n",
    "pyplot.show()"
   ]
  },
  {
   "cell_type": "code",
   "execution_count": 56,
   "id": "2bafcecf",
   "metadata": {},
   "outputs": [
    {
     "name": "stdout",
     "output_type": "stream",
     "text": [
      "<class 'pandas.core.frame.DataFrame'>\n",
      "RangeIndex: 52663 entries, 0 to 52662\n",
      "Data columns (total 68 columns):\n",
      " #   Column                 Non-Null Count  Dtype  \n",
      "---  ------                 --------------  -----  \n",
      " 0   Mkt_Cap                52663 non-null  float64\n",
      " 1   Best_EPS_1M            52663 non-null  float64\n",
      " 2   Best_EPS_3M            52663 non-null  float64\n",
      " 3   Best_EPS_6M            52663 non-null  float64\n",
      " 4   Best_EPS_1Y            52663 non-null  float64\n",
      " 5   Best_EPS_3Y            52663 non-null  float64\n",
      " 6   Best_EPS_5Y            52663 non-null  float64\n",
      " 7   Best_EPS_3M_v5Y        52663 non-null  float64\n",
      " 8   Best_EPS_6M_v5Y        52663 non-null  float64\n",
      " 9   Best_EPS_1Y_v5Y        52663 non-null  float64\n",
      " 10  Best_EPS_3Y_v5Y        52663 non-null  float64\n",
      " 11  Best_EPS_3M_Rank       52663 non-null  float64\n",
      " 12  Best_EPS_6M_Rank       52663 non-null  float64\n",
      " 13  Best_EPS_1Y_Rank       52663 non-null  float64\n",
      " 14  ST_Accel               52663 non-null  float64\n",
      " 15  ST_Accel_Class         52663 non-null  int64  \n",
      " 16  NRR_6M                 52663 non-null  float64\n",
      " 17  An_Mark_6M             52663 non-null  float64\n",
      " 18  An_Unch_6M             52663 non-null  float64\n",
      " 19  An_Down_6M             52663 non-null  float64\n",
      " 20  An_Up_6M               52663 non-null  float64\n",
      " 21  NRR_3M                 52663 non-null  float64\n",
      " 22  An_Mark_3M             52663 non-null  float64\n",
      " 23  An_Unch_3M             52663 non-null  float64\n",
      " 24  An_Down_3M             52663 non-null  float64\n",
      " 25  An_Up_3M               52663 non-null  float64\n",
      " 26  NRR                    52663 non-null  float64\n",
      " 27  An_Mark                52663 non-null  float64\n",
      " 28  An_Unch                52663 non-null  float64\n",
      " 29  An_Down                52663 non-null  float64\n",
      " 30  An_Up                  52663 non-null  float64\n",
      " 31  Return_1M              52663 non-null  float64\n",
      " 32  Return_3M              52663 non-null  float64\n",
      " 33  Return_6M              52663 non-null  float64\n",
      " 34  Best_EPS_5Y_R2         52663 non-null  float64\n",
      " 35  Best_EPS_5Y_R2_Rank    52663 non-null  float64\n",
      " 36  Best_EPS_5Y_SD         52663 non-null  float64\n",
      " 37  Best_EPS_5Y_Stability  52663 non-null  float64\n",
      " 38  Best_EPS_5Y_R2_p       52663 non-null  float64\n",
      " 39  Best_EPS_3Y_R2         52663 non-null  float64\n",
      " 40  Best_EPS_3Y_R2_p       52663 non-null  float64\n",
      " 41  Best_EPS_1Y_R2         52663 non-null  float64\n",
      " 42  Best_EPS_1Y_R2_p       52663 non-null  float64\n",
      " 43  Best_EPS_Sigma         52663 non-null  float64\n",
      " 44  Best_EPS_Mean_Med      52663 non-null  float64\n",
      " 45  Best_EPS_Hi_Lo         52663 non-null  float64\n",
      " 46  Best_EPS_Up_10_6M      52663 non-null  int64  \n",
      " 47  Best_EPS_Up_10_3M      52663 non-null  int64  \n",
      " 48  Best_EPS_Up_10_1M      52663 non-null  int64  \n",
      " 49  Best_EPS_5Y_CV         52663 non-null  float64\n",
      " 50  Best_EPS_Dn_10_6M      52663 non-null  int64  \n",
      " 51  Best_EPS_Dn_10_3M      52663 non-null  int64  \n",
      " 52  Best_EPS_Dn_10_1M      52663 non-null  int64  \n",
      " 53  Best_EPS_Sigma_3M      52663 non-null  float64\n",
      " 54  Best_EPS_Sigma_6M      52663 non-null  float64\n",
      " 55  Best_EPS_Sigma_1Y      52663 non-null  float64\n",
      " 56  ROIC                   52663 non-null  float64\n",
      " 57  ROIC_1Y_Chg            52663 non-null  float64\n",
      " 58  ROIC_SD                52663 non-null  float64\n",
      " 59  ROE                    52663 non-null  float64\n",
      " 60  ROE_1Y_Chg             52663 non-null  float64\n",
      " 61  ROE_SD                 52663 non-null  float64\n",
      " 62  FCF_Mgn                52663 non-null  float64\n",
      " 63  FCF_Mgn_1Y_Chg         52663 non-null  float64\n",
      " 64  FCF_Mgn_SD             52663 non-null  float64\n",
      " 65  Op_Mgn                 52663 non-null  float64\n",
      " 66  Op_Mgn_1Y_Chg          52663 non-null  float64\n",
      " 67  Op_Mgn_SD              52663 non-null  float64\n",
      "dtypes: float64(61), int64(7)\n",
      "memory usage: 27.3 MB\n"
     ]
    }
   ],
   "source": [
    "# helps to see which numbers align with which variable\n",
    "X.info()"
   ]
  },
  {
   "cell_type": "markdown",
   "id": "4e4cdf25",
   "metadata": {},
   "source": [
    "# UPDATED SECTION - INTERPRET SUPPORT VECTORS"
   ]
  },
  {
   "cell_type": "code",
   "execution_count": 57,
   "id": "7d41b2b8",
   "metadata": {
    "scrolled": true
   },
   "outputs": [
    {
     "name": "stdout",
     "output_type": "stream",
     "text": [
      "(35047, 68)\n",
      "(35047,)\n",
      "[15640 19407]\n"
     ]
    }
   ],
   "source": [
    "# quick look at the support vectors of the Stratified ShuffleSplit, non-linear SVM \n",
    "print(svm_clf.support_vectors_.shape)\n",
    "print(svm_clf.support_.shape)\n",
    "print(svm_clf.n_support_ )"
   ]
  },
  {
   "cell_type": "markdown",
   "id": "6d23675c",
   "metadata": {},
   "source": [
    "As we can see in the cell above, the support vectors are the data points that are close to the hyperplane that influence the position and orientation of the hyperplane; these support vectors maximize the margin of the classifier. These were taken from the model with the highest accuracy, found in the code results above."
   ]
  },
  {
   "cell_type": "code",
   "execution_count": 58,
   "id": "f15fa7fb",
   "metadata": {
    "scrolled": true
   },
   "outputs": [
    {
     "ename": "AttributeError",
     "evalue": "coef_ is only available when using a linear kernel",
     "output_type": "error",
     "traceback": [
      "\u001b[1;31m---------------------------------------------------------------------------\u001b[0m",
      "\u001b[1;31mAttributeError\u001b[0m                            Traceback (most recent call last)",
      "\u001b[1;32m~\\AppData\\Local\\Temp/ipykernel_3380/930703763.py\u001b[0m in \u001b[0;36m<module>\u001b[1;34m\u001b[0m\n\u001b[0;32m      2\u001b[0m \u001b[1;31m# We left this in just to show that it will not work since we used radial basis function for our svm_clf model\u001b[0m\u001b[1;33m\u001b[0m\u001b[1;33m\u001b[0m\u001b[1;33m\u001b[0m\u001b[0m\n\u001b[0;32m      3\u001b[0m \u001b[1;31m# as our kernel\u001b[0m\u001b[1;33m\u001b[0m\u001b[1;33m\u001b[0m\u001b[1;33m\u001b[0m\u001b[0m\n\u001b[1;32m----> 4\u001b[1;33m \u001b[0mprint\u001b[0m\u001b[1;33m(\u001b[0m\u001b[0msvm_clf\u001b[0m\u001b[1;33m.\u001b[0m\u001b[0mcoef_\u001b[0m\u001b[1;33m)\u001b[0m\u001b[1;33m\u001b[0m\u001b[1;33m\u001b[0m\u001b[0m\n\u001b[0m\u001b[0;32m      5\u001b[0m \u001b[0mweights\u001b[0m \u001b[1;33m=\u001b[0m \u001b[0mpd\u001b[0m\u001b[1;33m.\u001b[0m\u001b[0mSeries\u001b[0m\u001b[1;33m(\u001b[0m\u001b[0msvm_clf\u001b[0m\u001b[1;33m.\u001b[0m\u001b[0mcoef_\u001b[0m\u001b[1;33m[\u001b[0m\u001b[1;36m0\u001b[0m\u001b[1;33m]\u001b[0m\u001b[1;33m,\u001b[0m\u001b[0mindex\u001b[0m\u001b[1;33m=\u001b[0m\u001b[0mX_imputed\u001b[0m\u001b[1;33m.\u001b[0m\u001b[0mcolumns\u001b[0m\u001b[1;33m)\u001b[0m\u001b[1;33m\u001b[0m\u001b[1;33m\u001b[0m\u001b[0m\n\u001b[0;32m      6\u001b[0m \u001b[0mweights\u001b[0m\u001b[1;33m.\u001b[0m\u001b[0mplot\u001b[0m\u001b[1;33m(\u001b[0m\u001b[0mkind\u001b[0m\u001b[1;33m=\u001b[0m\u001b[1;34m'bar'\u001b[0m\u001b[1;33m)\u001b[0m\u001b[1;33m\u001b[0m\u001b[1;33m\u001b[0m\u001b[0m\n",
      "\u001b[1;32m~\\AppData\\Roaming\\Python\\Python37\\site-packages\\sklearn\\svm\\_base.py\u001b[0m in \u001b[0;36mcoef_\u001b[1;34m(self)\u001b[0m\n\u001b[0;32m    490\u001b[0m     \u001b[1;32mdef\u001b[0m \u001b[0mcoef_\u001b[0m\u001b[1;33m(\u001b[0m\u001b[0mself\u001b[0m\u001b[1;33m)\u001b[0m\u001b[1;33m:\u001b[0m\u001b[1;33m\u001b[0m\u001b[1;33m\u001b[0m\u001b[0m\n\u001b[0;32m    491\u001b[0m         \u001b[1;32mif\u001b[0m \u001b[0mself\u001b[0m\u001b[1;33m.\u001b[0m\u001b[0mkernel\u001b[0m \u001b[1;33m!=\u001b[0m \u001b[1;34m'linear'\u001b[0m\u001b[1;33m:\u001b[0m\u001b[1;33m\u001b[0m\u001b[1;33m\u001b[0m\u001b[0m\n\u001b[1;32m--> 492\u001b[1;33m             raise AttributeError('coef_ is only available when using a '\n\u001b[0m\u001b[0;32m    493\u001b[0m                                  'linear kernel')\n\u001b[0;32m    494\u001b[0m \u001b[1;33m\u001b[0m\u001b[0m\n",
      "\u001b[1;31mAttributeError\u001b[0m: coef_ is only available when using a linear kernel"
     ]
    }
   ],
   "source": [
    "# if using linear kernel, these make sense to look at (not otherwise)\n",
    "# We left this in just to show that it will not work since we used radial basis function for our svm_clf model\n",
    "# as our kernel\n",
    "print(svm_clf.coef_)\n",
    "weights = pd.Series(svm_clf.coef_[0],index=X_imputed.columns)\n",
    "weights.plot(kind='bar')"
   ]
  },
  {
   "cell_type": "code",
   "execution_count": 59,
   "id": "145666f5",
   "metadata": {},
   "outputs": [
    {
     "name": "stdout",
     "output_type": "stream",
     "text": [
      "[[ 0.01163922  0.01695972  0.03114569 -0.06011174  0.00217282 -0.01851293\n",
      "   0.02025831 -0.01447097  0.02056132  0.02583814  0.01553226  0.01959611\n",
      "   0.03880761 -0.04908569  0.00381745 -0.02126986 -0.014042   -0.01005255\n",
      "   0.03656714  0.05293073  0.02383982 -0.00629764  0.02821757 -0.01819105\n",
      "   0.00637506 -0.00481998  0.02121992  0.01420762  0.01934044 -0.04863452\n",
      "  -0.00642937  0.01449229  0.00980713 -0.02332591 -0.03553812  0.02454915\n",
      "  -0.0307178  -0.00305361  0.0190831   0.10277248 -0.08469203  0.042976\n",
      "  -0.03993484 -0.05004234  0.04830163 -0.02596765  0.01273959 -0.00330761\n",
      "  -0.01764563  0.04308726  0.02254593 -0.00203476 -0.00137082 -0.00572969\n",
      "  -0.01593018  0.08435501  0.02996757 -0.00248679 -0.07886192  0.00018286\n",
      "   0.03894917  0.01359702  0.06601851 -0.02824193 -0.05272012 -0.04510932\n",
      "   0.01982145  0.00735677]]\n"
     ]
    },
    {
     "data": {
      "text/plain": [
       "<AxesSubplot:>"
      ]
     },
     "execution_count": 59,
     "metadata": {},
     "output_type": "execute_result"
    },
    {
     "data": {
      "image/png": "[encoded data removed]",
      "text/plain": [
       "<Figure size 432x288 with 1 Axes>"
      ]
     },
     "metadata": {
      "needs_background": "light"
     },
     "output_type": "display_data"
    }
   ],
   "source": [
    "# Since we did use a Linear SVM with Stochastic Gradient Descent, we can analyze the coefficients for the model\n",
    "print(svm_sgd.coef_)\n",
    "weights = pd.Series(svm_sgd.coef_[0],index=X_imputed.columns)\n",
    "weights.plot(kind='bar')"
   ]
  },
  {
   "cell_type": "code",
   "execution_count": 60,
   "id": "feec3586",
   "metadata": {},
   "outputs": [
    {
     "name": "stdout",
     "output_type": "stream",
     "text": [
      "Best_EPS_3Y_R2_p has weight of -0.0846920279550045\n",
      "ROIC_SD has weight of -0.0788619196256023\n",
      "Best_EPS_6M has weight of -0.06011174448151654\n",
      "FCF_Mgn_SD has weight of -0.05272011583598896\n",
      "Best_EPS_Sigma has weight of -0.050042335393560095\n",
      "Best_EPS_1Y_Rank has weight of -0.0490856898487906\n",
      "An_Down has weight of -0.04863452223594436\n",
      "Op_Mgn has weight of -0.04510932122671197\n",
      "Best_EPS_1Y_R2_p has weight of -0.039934836490450175\n",
      "Best_EPS_5Y_R2 has weight of -0.03553811586685531\n",
      "Best_EPS_5Y_SD has weight of -0.03071779716431041\n",
      "FCF_Mgn_1Y_Chg has weight of -0.028241933606571058\n",
      "Best_EPS_Hi_Lo has weight of -0.025967649794183117\n",
      "Return_6M has weight of -0.023325914833183407\n",
      "ST_Accel_Class has weight of -0.02126985504592834\n",
      "Best_EPS_3Y has weight of -0.018512932157061564\n",
      "An_Unch_3M has weight of -0.018191048648208554\n",
      "Best_EPS_Up_10_1M has weight of -0.017645634617929003\n",
      "Best_EPS_Sigma_6M has weight of -0.015930184853123582\n",
      "Best_EPS_3M_v5Y has weight of -0.014470973295664467\n",
      "NRR_6M has weight of -0.014041995081468443\n",
      "An_Mark_6M has weight of -0.010052549913668832\n",
      "An_Up has weight of -0.006429368888210206\n",
      "NRR_3M has weight of -0.006297639927973023\n",
      "Best_EPS_Sigma_3M has weight of -0.005729693702666393\n",
      "An_Up_3M has weight of -0.004819982137014286\n",
      "Best_EPS_Up_10_3M has weight of -0.0033076053577346686\n",
      "Best_EPS_5Y_Stability has weight of -0.003053613120828191\n",
      "ROIC_1Y_Chg has weight of -0.0024867946536279886\n",
      "Best_EPS_Dn_10_3M has weight of -0.0020347572735494156\n",
      "Best_EPS_Dn_10_1M has weight of -0.0013708176708113044\n",
      "ROE has weight of 0.00018285949869130234\n",
      "Best_EPS_1Y has weight of 0.002172822477788509\n",
      "ST_Accel has weight of 0.003817445430301131\n",
      "An_Down_3M has weight of 0.006375057193996715\n",
      "Op_Mgn_SD has weight of 0.007356767253919344\n",
      "Return_3M has weight of 0.009807134896585874\n",
      "Mkt_Cap has weight of 0.011639220312932689\n",
      "Best_EPS_Up_10_6M has weight of 0.012739587264004449\n",
      "ROE_SD has weight of 0.013597020201845491\n",
      "An_Mark has weight of 0.014207623859996573\n",
      "Return_1M has weight of 0.014492286166146853\n",
      "Best_EPS_3Y_v5Y has weight of 0.015532255448606378\n",
      "Best_EPS_1M has weight of 0.016959723746144472\n",
      "Best_EPS_5Y_R2_p has weight of 0.01908309657655573\n",
      "An_Unch has weight of 0.01934043899148711\n",
      "Best_EPS_3M_Rank has weight of 0.019596108087660716\n",
      "Op_Mgn_1Y_Chg has weight of 0.019821446992890426\n",
      "Best_EPS_5Y has weight of 0.020258305897532695\n",
      "Best_EPS_6M_v5Y has weight of 0.020561315622971154\n",
      "NRR has weight of 0.02121992003533904\n",
      "Best_EPS_Dn_10_6M has weight of 0.02254592694259206\n",
      "An_Up_6M has weight of 0.023839817589723068\n",
      "Best_EPS_5Y_R2_Rank has weight of 0.02454915100922682\n",
      "Best_EPS_1Y_v5Y has weight of 0.025838143461505494\n",
      "An_Mark_3M has weight of 0.0282175711916908\n",
      "ROIC has weight of 0.02996756769454225\n",
      "Best_EPS_3M has weight of 0.03114568645569604\n",
      "An_Unch_6M has weight of 0.03656713982309134\n",
      "Best_EPS_6M_Rank has weight of 0.03880761419795451\n",
      "ROE_1Y_Chg has weight of 0.038949172838465475\n",
      "Best_EPS_1Y_R2 has weight of 0.042976002340380313\n",
      "Best_EPS_5Y_CV has weight of 0.04308726306425605\n",
      "Best_EPS_Mean_Med has weight of 0.048301633180701464\n",
      "An_Down_6M has weight of 0.05293072773992291\n",
      "FCF_Mgn has weight of 0.06601850933872043\n",
      "Best_EPS_Sigma_1Y has weight of 0.08435501293726762\n",
      "Best_EPS_3Y_R2 has weight of 0.10277247526703913\n"
     ]
    }
   ],
   "source": [
    "# Here are the variables from the Linear SVM with SGD based on absolute values with their \n",
    "# respective coefficients (in order from highest to lowest):\n",
    "zip_vars = sorted(zip(svm_sgd.coef_.T,X.columns))\n",
    "for coef, name in zip_vars:\n",
    "    print(name, 'has weight of', coef[0]) "
   ]
  },
  {
   "cell_type": "code",
   "execution_count": 61,
   "id": "881f93cd",
   "metadata": {},
   "outputs": [
    {
     "name": "stdout",
     "output_type": "stream",
     "text": [
      "Attributes of the Linear SVM with SGD Model: \n",
      "\n",
      "\n",
      "Actual number of iterations: 13\n",
      "\n",
      "\n",
      "Classes: [0 1]\n",
      "\n",
      "\n",
      "Number of weight updates performed during training: 616149.0\n",
      "\n",
      "\n",
      "Number of features seen during .fit: 68\n"
     ]
    }
   ],
   "source": [
    "print(\"Attributes of the Linear SVM with SGD Model: \")\n",
    "print(\"\\n\")\n",
    "print(\"Actual number of iterations: {}\".format(svm_sgd.n_iter_))\n",
    "print('\\n')\n",
    "print(\"Classes: {}\".format(svm_sgd.classes_))\n",
    "print('\\n')\n",
    "print(\"Number of weight updates performed during training: {}\".format(svm_sgd.t_))\n",
    "print('\\n')\n",
    "print(\"Number of features seen during .fit: {}\".format(svm_sgd.n_features_in_))"
   ]
  },
  {
   "cell_type": "markdown",
   "id": "f501a4ec",
   "metadata": {},
   "source": [
    "The below cell shows the instances that were chosen as the support vectors. It also might indicate if they are indicative of anything, following our intuition. First, we made a dataframe of the training data, then appended the support vectors from the training model, with the original response variable from the original data. "
   ]
  },
  {
   "cell_type": "code",
   "execution_count": 62,
   "id": "e4f5503c",
   "metadata": {},
   "outputs": [
    {
     "name": "stdout",
     "output_type": "stream",
     "text": [
      "<class 'pandas.core.frame.DataFrame'>\n",
      "Int64Index: 35047 entries, 44763 to 19395\n",
      "Data columns (total 69 columns):\n",
      " #   Column                 Non-Null Count  Dtype  \n",
      "---  ------                 --------------  -----  \n",
      " 0   Mkt_Cap                35047 non-null  float64\n",
      " 1   Best_EPS_1M            35047 non-null  float64\n",
      " 2   Best_EPS_3M            35047 non-null  float64\n",
      " 3   Best_EPS_6M            35047 non-null  float64\n",
      " 4   Best_EPS_1Y            35047 non-null  float64\n",
      " 5   Best_EPS_3Y            35047 non-null  float64\n",
      " 6   Best_EPS_5Y            35047 non-null  float64\n",
      " 7   Best_EPS_3M_v5Y        35047 non-null  float64\n",
      " 8   Best_EPS_6M_v5Y        35047 non-null  float64\n",
      " 9   Best_EPS_1Y_v5Y        35047 non-null  float64\n",
      " 10  Best_EPS_3Y_v5Y        35047 non-null  float64\n",
      " 11  Best_EPS_3M_Rank       35047 non-null  float64\n",
      " 12  Best_EPS_6M_Rank       35047 non-null  float64\n",
      " 13  Best_EPS_1Y_Rank       35047 non-null  float64\n",
      " 14  ST_Accel               35047 non-null  float64\n",
      " 15  ST_Accel_Class         35047 non-null  int64  \n",
      " 16  NRR_6M                 35047 non-null  float64\n",
      " 17  An_Mark_6M             35047 non-null  float64\n",
      " 18  An_Unch_6M             35047 non-null  float64\n",
      " 19  An_Down_6M             35047 non-null  float64\n",
      " 20  An_Up_6M               35047 non-null  float64\n",
      " 21  NRR_3M                 35047 non-null  float64\n",
      " 22  An_Mark_3M             35047 non-null  float64\n",
      " 23  An_Unch_3M             35047 non-null  float64\n",
      " 24  An_Down_3M             35047 non-null  float64\n",
      " 25  An_Up_3M               35047 non-null  float64\n",
      " 26  NRR                    35047 non-null  float64\n",
      " 27  An_Mark                35047 non-null  float64\n",
      " 28  An_Unch                35047 non-null  float64\n",
      " 29  An_Down                35047 non-null  float64\n",
      " 30  An_Up                  35047 non-null  float64\n",
      " 31  Return_1M              35047 non-null  float64\n",
      " 32  Return_3M              35047 non-null  float64\n",
      " 33  Return_6M              35047 non-null  float64\n",
      " 34  Best_EPS_5Y_R2         35047 non-null  float64\n",
      " 35  Best_EPS_5Y_R2_Rank    35047 non-null  float64\n",
      " 36  Best_EPS_5Y_SD         35047 non-null  float64\n",
      " 37  Best_EPS_5Y_Stability  35047 non-null  float64\n",
      " 38  Best_EPS_5Y_R2_p       35047 non-null  float64\n",
      " 39  Best_EPS_3Y_R2         35047 non-null  float64\n",
      " 40  Best_EPS_3Y_R2_p       35047 non-null  float64\n",
      " 41  Best_EPS_1Y_R2         35047 non-null  float64\n",
      " 42  Best_EPS_1Y_R2_p       35047 non-null  float64\n",
      " 43  Best_EPS_Sigma         35047 non-null  float64\n",
      " 44  Best_EPS_Mean_Med      35047 non-null  float64\n",
      " 45  Best_EPS_Hi_Lo         35047 non-null  float64\n",
      " 46  Best_EPS_Up_10_6M      35047 non-null  int64  \n",
      " 47  Best_EPS_Up_10_3M      35047 non-null  int64  \n",
      " 48  Best_EPS_Up_10_1M      35047 non-null  int64  \n",
      " 49  Best_EPS_5Y_CV         35047 non-null  float64\n",
      " 50  Best_EPS_Dn_10_6M      35047 non-null  int64  \n",
      " 51  Best_EPS_Dn_10_3M      35047 non-null  int64  \n",
      " 52  Best_EPS_Dn_10_1M      35047 non-null  int64  \n",
      " 53  Best_EPS_Sigma_3M      35047 non-null  float64\n",
      " 54  Best_EPS_Sigma_6M      35047 non-null  float64\n",
      " 55  Best_EPS_Sigma_1Y      35047 non-null  float64\n",
      " 56  ROIC                   35047 non-null  float64\n",
      " 57  ROIC_1Y_Chg            35047 non-null  float64\n",
      " 58  ROIC_SD                35047 non-null  float64\n",
      " 59  ROE                    35047 non-null  float64\n",
      " 60  ROE_1Y_Chg             35047 non-null  float64\n",
      " 61  ROE_SD                 35047 non-null  float64\n",
      " 62  FCF_Mgn                35047 non-null  float64\n",
      " 63  FCF_Mgn_1Y_Chg         35047 non-null  float64\n",
      " 64  FCF_Mgn_SD             35047 non-null  float64\n",
      " 65  Op_Mgn                 35047 non-null  float64\n",
      " 66  Op_Mgn_1Y_Chg          35047 non-null  float64\n",
      " 67  Op_Mgn_SD              35047 non-null  float64\n",
      " 68  Fwd_Return_3M_Class    35047 non-null  int64  \n",
      "dtypes: float64(61), int64(8)\n",
      "memory usage: 18.7 MB\n"
     ]
    }
   ],
   "source": [
    "df_tested_on = X_imputed.iloc[train_indices].copy()\n",
    "df_support = df_tested_on.iloc[svm_clf.support_,:].copy()\n",
    "\n",
    "df_support['Fwd_Return_3M_Class'] = y_svm[svm_clf.support_]\n",
    "X_imputed['Fwd_Return_3M_Class'] = y_svm\n",
    "\n",
    "df_support.info()"
   ]
  },
  {
   "cell_type": "code",
   "execution_count": 63,
   "id": "5af7e72c",
   "metadata": {},
   "outputs": [
    {
     "name": "stdout",
     "output_type": "stream",
     "text": [
      "Attributes of the Stratified ShuffleSplit, non-linear SVM\n",
      "\n",
      "\n",
      "Class weights: [1.12713436 0.89863866]\n",
      "\n",
      "\n",
      "Classes: [0 1]\n",
      "\n",
      "\n",
      "Constants in the decision function: [-0.0321947]\n",
      "\n",
      "\n",
      "The number of feature seen during the fit: 68\n",
      "\n",
      "\n",
      "The indices of support vectors: [    0     2     6 ... 47391 47392 47394]\n",
      "\n",
      "\n",
      "The number of support vectors for each class: [15640 19407]\n",
      "\n",
      "\n",
      "The array of dimensions of training vector X: (47396, 68)\n"
     ]
    }
   ],
   "source": [
    "print(\"Attributes of the Stratified ShuffleSplit, non-linear SVM\")\n",
    "print('\\n')\n",
    "print(\"Class weights: {}\".format(svm_clf.class_weight_))\n",
    "print('\\n')\n",
    "print(\"Classes: {}\".format(svm_clf.classes_))\n",
    "print('\\n')\n",
    "print(\"Constants in the decision function: {}\".format(svm_clf.intercept_))\n",
    "print('\\n')\n",
    "print(\"The number of feature seen during the fit: {}\".format(svm_clf.n_features_in_))\n",
    "print('\\n')\n",
    "print(\"The indices of support vectors: {}\".format(svm_clf.support_))\n",
    "print('\\n')\n",
    "print(\"The number of support vectors for each class: {}\".format(svm_clf.n_support_))\n",
    "print('\\n')\n",
    "print(\"The array of dimensions of training vector X: {}\".format(svm_clf.shape_fit_))"
   ]
  },
  {
   "cell_type": "raw",
   "id": "f0b0d9b5",
   "metadata": {},
   "source": []
  },
  {
   "cell_type": "markdown",
   "id": "1d62dd2c",
   "metadata": {},
   "source": [
    "### UPDATED SECTION - Insights from the Stratified ShuffleSplit, non-linear SVM Model and the Linear SVM with SGD Model\n",
    "\n",
    "Below, we have produced a Kernel Density Estimation (KDE) for a selection of variables, which allows us to view the probability density function of the variables. By utilizing KDE, we are not assuming that there is an underlying distribution with the data, which means that we are not fitting by a mean or standard deviation. We noticed that the plots constructed from the Logistic Regression model and the Support Vector model are very similar and close in distribution, with subtle differences that we will note below.\n",
    "\n",
    "FCF_Mgn: The historical 12-month free cash flow margin. One aspect to notice is that compared to that of the LR model, the density estimates for the blue (lose) vs the orange (win) are nearly identical in the SV model. This means that the SV model appropriately balances the blue (lose) and orange (win) distributions and that there is an equal chance of probability to lose or win.\n",
    "\n",
    "Mkt_Cap: The Market Capitalization. The density estimates for the market capitalization are very slightly larger than zero. This means that the explanatory power produced from the size / market cap of companies is negligible. This is good because the size of a company should not be a driver of stock price performance, rather should be a fallout of stocks that have done well in the past. Again, when looking at the LR model, we notice that the density from the blue (lose) is slightly greater than from the orange (win). The SV model, however,  have distributions blue (lose) and orange (win) that are similar, if not identical. Again, this is good since we want an equal probability of predicting either event.\n",
    "\n",
    "Best_EPS_6M: The 6-month historical consensus of EPS growth. The density estimates for the 6-month historical consensus of EPS are slightly larger than 0.125 (but smaller than 0.25). This means that that the annualized growth rate for the stocks in our data set hovers aroudn 12.5%. Again, we notice that in the LR model, there are some hints of blue (lose) in the plot. The SV model on the other hand, has almost no deviation from blue (lose) and orange (win), which is helpful in making future predictions in probability.\n",
    "\n",
    "Best_EPS_5Y:  The 5-year historical consensus EPS growth. The density estimates for the 5-month historical consensus of EPS are centered closer to 0.25. Compared to the 6-month consensus, where the estimates are spread from -2.0 and 3.0, the 5-year consensus is less spread out and is spread from -1.0 to 3.0.  That such figures are less spread out is likely due to the cyclical nature of companies as in the short term EPS can move around with much greater volatility than when looking at longer time periods / averages of such data.  As a result, the 5-year historical census has a greater density estimate (0.25) and less spread compared to the 6-month historical census (0.125). Likewise, this is to be expected and makes sense because compared to 6 months, 5 years of historical consensus would gather more accurate predictions in the stock market. Lastly, we notice that with the LR model, there are more hints of blue compared to the SV model. This means that the SV model has an equal chance of predicting between blue (lose) and orange (win).\n",
    "\n",
    "Return_6M:  The 6-month historical relative price return. The density estimates for the 6-month historical relative price return are centered around 25, which supports the notion that outperformance is greater with the SVM. When looking at the LR model, we notice that the blue (lose) density is slightly smaller compared to the orange density (win). This is not noticed in the SV model where the blue (lose) and orange (win) densities are nearly identical. \n"
   ]
  },
  {
   "cell_type": "code",
   "execution_count": 64,
   "id": "f8d10961",
   "metadata": {
    "scrolled": true
   },
   "outputs": [
    {
     "data": {
      "image/png": "[encoded data removed]",
      "text/plain": [
       "<Figure size 720x288 with 2 Axes>"
      ]
     },
     "metadata": {
      "needs_background": "light"
     },
     "output_type": "display_data"
    },
    {
     "data": {
      "image/png": "[encoded data removed]",
      "text/plain": [
       "<Figure size 720x288 with 2 Axes>"
      ]
     },
     "metadata": {
      "needs_background": "light"
     },
     "output_type": "display_data"
    },
    {
     "data": {
      "image/png": "[encoded data removed]",
      "text/plain": [
       "<Figure size 720x288 with 2 Axes>"
      ]
     },
     "metadata": {
      "needs_background": "light"
     },
     "output_type": "display_data"
    },
    {
     "data": {
      "image/png": "[encoded data removed]",
      "text/plain": [
       "<Figure size 720x288 with 2 Axes>"
      ]
     },
     "metadata": {
      "needs_background": "light"
     },
     "output_type": "display_data"
    },
    {
     "data": {
      "image/png": "[encoded data removed]",
      "text/plain": [
       "<Figure size 720x288 with 2 Axes>"
      ]
     },
     "metadata": {
      "needs_background": "light"
     },
     "output_type": "display_data"
    }
   ],
   "source": [
    "# now lets see the statistics of these attributes\n",
    "from matplotlib import pyplot as plt\n",
    "from pandas.plotting import boxplot\n",
    "\n",
    "# group the original data and the support vectors\n",
    "df_grouped_support = df_support.groupby(['Fwd_Return_3M_Class'])\n",
    "df_grouped = X_imputed.groupby(['Fwd_Return_3M_Class'])\n",
    "\n",
    "# plot KDE of Different variables\n",
    "vars_to_plot = ['FCF_Mgn', 'Mkt_Cap', 'Best_EPS_6M', 'Best_EPS_5Y', \n",
    "               'Return_6M']\n",
    "\n",
    "for v in vars_to_plot:\n",
    "    plt.figure(figsize=(10,4))\n",
    "    # plot support vector stats\n",
    "    plt.subplot(1,2,1)\n",
    "    ax = df_grouped_support[v].plot.kde() \n",
    "    plt.legend(['Lose','Win'])\n",
    "    plt.title(v+' (Instances chosen as Support Vectors)')\n",
    "    \n",
    "    # plot original distributions\n",
    "    plt.subplot(1,2,2)\n",
    "    ax = df_grouped[v].plot.kde() \n",
    "    plt.legend(['Lose','Win'])\n",
    "    plt.title(v+' (Original)')\n"
   ]
  },
  {
   "cell_type": "markdown",
   "id": "0b215ec4",
   "metadata": {},
   "source": [
    "Using the graphs found above, and a few choice features, we can see how the support vectors compare to the original statistics of the data. There is not as much separation between the original distributions and the support vector distributions, which is initially odd. These graphs also show the relationships between the two and how they changed. It seems the support vecotrs tend to follow the original fairly closely, however, if the scale were to decrease between -5 and 5, we might see a very clear separation between the support vectors distribution and the original data distribution. The support vectors found on the edge of the original distributions are the instances on the edge of the class boundaries and that are incorrectly classified in the training data."
   ]
  },
  {
   "cell_type": "code",
   "execution_count": null,
   "id": "b52782b5",
   "metadata": {},
   "outputs": [],
   "source": []
  }
 ],
 "metadata": {
  "kernelspec": {
   "display_name": "Python 3 (ipykernel)",
   "language": "python",
   "name": "python3"
  },
  "language_info": {
   "codemirror_mode": {
    "name": "ipython",
    "version": 3
   },
   "file_extension": ".py",
   "mimetype": "text/x-python",
   "name": "python",
   "nbconvert_exporter": "python",
   "pygments_lexer": "ipython3",
   "version": "3.7.11"
  }
 },
 "nbformat": 4,
 "nbformat_minor": 5
}
